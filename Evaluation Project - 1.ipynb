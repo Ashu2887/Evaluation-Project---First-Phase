{
 "cells": [
  {
   "cell_type": "markdown",
   "id": "cbdea7f8",
   "metadata": {},
   "source": [
    "### Project Title - Baseball Case Study"
   ]
  },
  {
   "cell_type": "markdown",
   "id": "87488224",
   "metadata": {},
   "source": [
    "Problem Statement - This dataset utilizes data from 2014 Major League Baseball seasons in order to develop an algorithm that predicts the number of wins for a given team in the 2015 season based on several different indicators of success. There are 16 different features that will be used as the inputs to the machine learning and the output will be a value that represents the number of wins. "
   ]
  },
  {
   "cell_type": "markdown",
   "id": "90d003b7",
   "metadata": {},
   "source": [
    "Input Features - Runs, At Bats, Hits, Doubles, Triples, Homeruns, Walks, Strikeouts, Stolen Bases, Runs Allowed, Earned Runs, Earned Run Average (ERA), Shutouts, Saves, Complete Games and Errors"
   ]
  },
  {
   "cell_type": "markdown",
   "id": "51f41939",
   "metadata": {},
   "source": [
    "Output Required - Predict Number of Wins in the new season"
   ]
  },
  {
   "cell_type": "markdown",
   "id": "c830d908",
   "metadata": {},
   "source": [
    "### Importing Basic Libraries and Basic EDA"
   ]
  },
  {
   "cell_type": "code",
   "execution_count": 2,
   "id": "773b3ef0",
   "metadata": {},
   "outputs": [],
   "source": [
    "import pandas as pd\n",
    "import numpy as np\n",
    "import matplotlib.pyplot as plt\n",
    "import seaborn as sns"
   ]
  },
  {
   "cell_type": "code",
   "execution_count": 3,
   "id": "b9a24371",
   "metadata": {},
   "outputs": [],
   "source": [
    "df = pd.read_csv('baseball.csv')"
   ]
  },
  {
   "cell_type": "code",
   "execution_count": 3,
   "id": "8f2edf0a",
   "metadata": {},
   "outputs": [
    {
     "data": {
      "text/html": [
       "<div>\n",
       "<style scoped>\n",
       "    .dataframe tbody tr th:only-of-type {\n",
       "        vertical-align: middle;\n",
       "    }\n",
       "\n",
       "    .dataframe tbody tr th {\n",
       "        vertical-align: top;\n",
       "    }\n",
       "\n",
       "    .dataframe thead th {\n",
       "        text-align: right;\n",
       "    }\n",
       "</style>\n",
       "<table border=\"1\" class=\"dataframe\">\n",
       "  <thead>\n",
       "    <tr style=\"text-align: right;\">\n",
       "      <th></th>\n",
       "      <th>W</th>\n",
       "      <th>R</th>\n",
       "      <th>AB</th>\n",
       "      <th>H</th>\n",
       "      <th>2B</th>\n",
       "      <th>3B</th>\n",
       "      <th>HR</th>\n",
       "      <th>BB</th>\n",
       "      <th>SO</th>\n",
       "      <th>SB</th>\n",
       "      <th>RA</th>\n",
       "      <th>ER</th>\n",
       "      <th>ERA</th>\n",
       "      <th>CG</th>\n",
       "      <th>SHO</th>\n",
       "      <th>SV</th>\n",
       "      <th>E</th>\n",
       "    </tr>\n",
       "  </thead>\n",
       "  <tbody>\n",
       "    <tr>\n",
       "      <th>0</th>\n",
       "      <td>95</td>\n",
       "      <td>724</td>\n",
       "      <td>5575</td>\n",
       "      <td>1497</td>\n",
       "      <td>300</td>\n",
       "      <td>42</td>\n",
       "      <td>139</td>\n",
       "      <td>383</td>\n",
       "      <td>973</td>\n",
       "      <td>104</td>\n",
       "      <td>641</td>\n",
       "      <td>601</td>\n",
       "      <td>3.73</td>\n",
       "      <td>2</td>\n",
       "      <td>8</td>\n",
       "      <td>56</td>\n",
       "      <td>88</td>\n",
       "    </tr>\n",
       "    <tr>\n",
       "      <th>1</th>\n",
       "      <td>83</td>\n",
       "      <td>696</td>\n",
       "      <td>5467</td>\n",
       "      <td>1349</td>\n",
       "      <td>277</td>\n",
       "      <td>44</td>\n",
       "      <td>156</td>\n",
       "      <td>439</td>\n",
       "      <td>1264</td>\n",
       "      <td>70</td>\n",
       "      <td>700</td>\n",
       "      <td>653</td>\n",
       "      <td>4.07</td>\n",
       "      <td>2</td>\n",
       "      <td>12</td>\n",
       "      <td>45</td>\n",
       "      <td>86</td>\n",
       "    </tr>\n",
       "    <tr>\n",
       "      <th>2</th>\n",
       "      <td>81</td>\n",
       "      <td>669</td>\n",
       "      <td>5439</td>\n",
       "      <td>1395</td>\n",
       "      <td>303</td>\n",
       "      <td>29</td>\n",
       "      <td>141</td>\n",
       "      <td>533</td>\n",
       "      <td>1157</td>\n",
       "      <td>86</td>\n",
       "      <td>640</td>\n",
       "      <td>584</td>\n",
       "      <td>3.67</td>\n",
       "      <td>11</td>\n",
       "      <td>10</td>\n",
       "      <td>38</td>\n",
       "      <td>79</td>\n",
       "    </tr>\n",
       "    <tr>\n",
       "      <th>3</th>\n",
       "      <td>76</td>\n",
       "      <td>622</td>\n",
       "      <td>5533</td>\n",
       "      <td>1381</td>\n",
       "      <td>260</td>\n",
       "      <td>27</td>\n",
       "      <td>136</td>\n",
       "      <td>404</td>\n",
       "      <td>1231</td>\n",
       "      <td>68</td>\n",
       "      <td>701</td>\n",
       "      <td>643</td>\n",
       "      <td>3.98</td>\n",
       "      <td>7</td>\n",
       "      <td>9</td>\n",
       "      <td>37</td>\n",
       "      <td>101</td>\n",
       "    </tr>\n",
       "    <tr>\n",
       "      <th>4</th>\n",
       "      <td>74</td>\n",
       "      <td>689</td>\n",
       "      <td>5605</td>\n",
       "      <td>1515</td>\n",
       "      <td>289</td>\n",
       "      <td>49</td>\n",
       "      <td>151</td>\n",
       "      <td>455</td>\n",
       "      <td>1259</td>\n",
       "      <td>83</td>\n",
       "      <td>803</td>\n",
       "      <td>746</td>\n",
       "      <td>4.64</td>\n",
       "      <td>7</td>\n",
       "      <td>12</td>\n",
       "      <td>35</td>\n",
       "      <td>86</td>\n",
       "    </tr>\n",
       "  </tbody>\n",
       "</table>\n",
       "</div>"
      ],
      "text/plain": [
       "    W    R    AB     H   2B  3B   HR   BB    SO   SB   RA   ER   ERA  CG  SHO  \\\n",
       "0  95  724  5575  1497  300  42  139  383   973  104  641  601  3.73   2    8   \n",
       "1  83  696  5467  1349  277  44  156  439  1264   70  700  653  4.07   2   12   \n",
       "2  81  669  5439  1395  303  29  141  533  1157   86  640  584  3.67  11   10   \n",
       "3  76  622  5533  1381  260  27  136  404  1231   68  701  643  3.98   7    9   \n",
       "4  74  689  5605  1515  289  49  151  455  1259   83  803  746  4.64   7   12   \n",
       "\n",
       "   SV    E  \n",
       "0  56   88  \n",
       "1  45   86  \n",
       "2  38   79  \n",
       "3  37  101  \n",
       "4  35   86  "
      ]
     },
     "execution_count": 3,
     "metadata": {},
     "output_type": "execute_result"
    }
   ],
   "source": [
    "df.head()"
   ]
  },
  {
   "cell_type": "code",
   "execution_count": 4,
   "id": "fc1d4f8c",
   "metadata": {},
   "outputs": [
    {
     "data": {
      "text/html": [
       "<div>\n",
       "<style scoped>\n",
       "    .dataframe tbody tr th:only-of-type {\n",
       "        vertical-align: middle;\n",
       "    }\n",
       "\n",
       "    .dataframe tbody tr th {\n",
       "        vertical-align: top;\n",
       "    }\n",
       "\n",
       "    .dataframe thead th {\n",
       "        text-align: right;\n",
       "    }\n",
       "</style>\n",
       "<table border=\"1\" class=\"dataframe\">\n",
       "  <thead>\n",
       "    <tr style=\"text-align: right;\">\n",
       "      <th></th>\n",
       "      <th>W</th>\n",
       "      <th>R</th>\n",
       "      <th>AB</th>\n",
       "      <th>H</th>\n",
       "      <th>2B</th>\n",
       "      <th>3B</th>\n",
       "      <th>HR</th>\n",
       "      <th>BB</th>\n",
       "      <th>SO</th>\n",
       "      <th>SB</th>\n",
       "      <th>RA</th>\n",
       "      <th>ER</th>\n",
       "      <th>ERA</th>\n",
       "      <th>CG</th>\n",
       "      <th>SHO</th>\n",
       "      <th>SV</th>\n",
       "      <th>E</th>\n",
       "    </tr>\n",
       "  </thead>\n",
       "  <tbody>\n",
       "    <tr>\n",
       "      <th>25</th>\n",
       "      <td>92</td>\n",
       "      <td>667</td>\n",
       "      <td>5385</td>\n",
       "      <td>1346</td>\n",
       "      <td>263</td>\n",
       "      <td>26</td>\n",
       "      <td>187</td>\n",
       "      <td>563</td>\n",
       "      <td>1258</td>\n",
       "      <td>59</td>\n",
       "      <td>595</td>\n",
       "      <td>553</td>\n",
       "      <td>3.44</td>\n",
       "      <td>6</td>\n",
       "      <td>21</td>\n",
       "      <td>47</td>\n",
       "      <td>75</td>\n",
       "    </tr>\n",
       "    <tr>\n",
       "      <th>26</th>\n",
       "      <td>84</td>\n",
       "      <td>696</td>\n",
       "      <td>5565</td>\n",
       "      <td>1486</td>\n",
       "      <td>288</td>\n",
       "      <td>39</td>\n",
       "      <td>136</td>\n",
       "      <td>457</td>\n",
       "      <td>1159</td>\n",
       "      <td>93</td>\n",
       "      <td>627</td>\n",
       "      <td>597</td>\n",
       "      <td>3.72</td>\n",
       "      <td>7</td>\n",
       "      <td>18</td>\n",
       "      <td>41</td>\n",
       "      <td>78</td>\n",
       "    </tr>\n",
       "    <tr>\n",
       "      <th>27</th>\n",
       "      <td>79</td>\n",
       "      <td>720</td>\n",
       "      <td>5649</td>\n",
       "      <td>1494</td>\n",
       "      <td>289</td>\n",
       "      <td>48</td>\n",
       "      <td>154</td>\n",
       "      <td>490</td>\n",
       "      <td>1312</td>\n",
       "      <td>132</td>\n",
       "      <td>713</td>\n",
       "      <td>659</td>\n",
       "      <td>4.04</td>\n",
       "      <td>1</td>\n",
       "      <td>12</td>\n",
       "      <td>44</td>\n",
       "      <td>86</td>\n",
       "    </tr>\n",
       "    <tr>\n",
       "      <th>28</th>\n",
       "      <td>74</td>\n",
       "      <td>650</td>\n",
       "      <td>5457</td>\n",
       "      <td>1324</td>\n",
       "      <td>260</td>\n",
       "      <td>36</td>\n",
       "      <td>148</td>\n",
       "      <td>426</td>\n",
       "      <td>1327</td>\n",
       "      <td>82</td>\n",
       "      <td>731</td>\n",
       "      <td>655</td>\n",
       "      <td>4.09</td>\n",
       "      <td>1</td>\n",
       "      <td>6</td>\n",
       "      <td>41</td>\n",
       "      <td>92</td>\n",
       "    </tr>\n",
       "    <tr>\n",
       "      <th>29</th>\n",
       "      <td>68</td>\n",
       "      <td>737</td>\n",
       "      <td>5572</td>\n",
       "      <td>1479</td>\n",
       "      <td>274</td>\n",
       "      <td>49</td>\n",
       "      <td>186</td>\n",
       "      <td>388</td>\n",
       "      <td>1283</td>\n",
       "      <td>97</td>\n",
       "      <td>844</td>\n",
       "      <td>799</td>\n",
       "      <td>5.04</td>\n",
       "      <td>4</td>\n",
       "      <td>4</td>\n",
       "      <td>36</td>\n",
       "      <td>95</td>\n",
       "    </tr>\n",
       "  </tbody>\n",
       "</table>\n",
       "</div>"
      ],
      "text/plain": [
       "     W    R    AB     H   2B  3B   HR   BB    SO   SB   RA   ER   ERA  CG  \\\n",
       "25  92  667  5385  1346  263  26  187  563  1258   59  595  553  3.44   6   \n",
       "26  84  696  5565  1486  288  39  136  457  1159   93  627  597  3.72   7   \n",
       "27  79  720  5649  1494  289  48  154  490  1312  132  713  659  4.04   1   \n",
       "28  74  650  5457  1324  260  36  148  426  1327   82  731  655  4.09   1   \n",
       "29  68  737  5572  1479  274  49  186  388  1283   97  844  799  5.04   4   \n",
       "\n",
       "    SHO  SV   E  \n",
       "25   21  47  75  \n",
       "26   18  41  78  \n",
       "27   12  44  86  \n",
       "28    6  41  92  \n",
       "29    4  36  95  "
      ]
     },
     "execution_count": 4,
     "metadata": {},
     "output_type": "execute_result"
    }
   ],
   "source": [
    "df.tail()"
   ]
  },
  {
   "cell_type": "code",
   "execution_count": 7,
   "id": "184c6001",
   "metadata": {},
   "outputs": [
    {
     "data": {
      "text/plain": [
       "W      0\n",
       "R      0\n",
       "AB     0\n",
       "H      0\n",
       "2B     0\n",
       "3B     0\n",
       "HR     0\n",
       "BB     0\n",
       "SO     0\n",
       "SB     0\n",
       "RA     0\n",
       "ER     0\n",
       "ERA    0\n",
       "CG     0\n",
       "SHO    0\n",
       "SV     0\n",
       "E      0\n",
       "dtype: int64"
      ]
     },
     "execution_count": 7,
     "metadata": {},
     "output_type": "execute_result"
    }
   ],
   "source": [
    "df.isnull().sum()"
   ]
  },
  {
   "cell_type": "code",
   "execution_count": 9,
   "id": "328262d3",
   "metadata": {},
   "outputs": [
    {
     "data": {
      "text/plain": [
       "<Axes: >"
      ]
     },
     "execution_count": 9,
     "metadata": {},
     "output_type": "execute_result"
    },
    {
     "data": {
      "image/png": "[encoded data removed]",
      "text/plain": [
       "<Figure size 1600x800 with 2 Axes>"
      ]
     },
     "metadata": {},
     "output_type": "display_data"
    }
   ],
   "source": [
    "plt.figure(figsize=(16,8))\n",
    "sns.heatmap(df.corr(),annot=True)"
   ]
  },
  {
   "cell_type": "markdown",
   "id": "cf06c3f6",
   "metadata": {},
   "source": [
    "The Analysis of the Heat Map presents following findings -\n",
    "\n",
    "AB - This feature is not Correlated with Wins \n",
    "\n",
    "2B - This feature is not Correlated with Wins \n",
    "\n",
    "3B - This feature is not Correlated with Wins \n",
    "\n",
    "HR - This feature is Corelated with Wins but also corelated with runs\n",
    "\n",
    "RA - This feature is a measure of rate at which runs are allowed which is opposite of wins\n",
    "\n",
    "ER - This is similar is to RA\n",
    "\n",
    "CG - This feature is not correlated \n",
    "\n",
    "SV - This feature is not correlated "
   ]
  },
  {
   "cell_type": "markdown",
   "id": "7da356e2",
   "metadata": {},
   "source": [
    "### Checking for Skewness and Outliers and removing them"
   ]
  },
  {
   "cell_type": "code",
   "execution_count": 4,
   "id": "ccf84652",
   "metadata": {},
   "outputs": [
    {
     "name": "stdout",
     "output_type": "stream",
     "text": [
      "W      0.047089\n",
      "R      1.200786\n",
      "AB     0.183437\n",
      "H      0.670254\n",
      "2B    -0.230650\n",
      "3B     0.129502\n",
      "HR     0.516441\n",
      "BB     0.158498\n",
      "SO    -0.156065\n",
      "SB     0.479893\n",
      "RA     0.045734\n",
      "ER     0.058710\n",
      "ERA    0.053331\n",
      "CG     0.736845\n",
      "SHO    0.565790\n",
      "SV     0.657524\n",
      "E      0.890132\n",
      "dtype: float64\n"
     ]
    }
   ],
   "source": [
    "skewness = df.skew()\n",
    "print(skewness)"
   ]
  },
  {
   "cell_type": "code",
   "execution_count": 6,
   "id": "1d1db2fc",
   "metadata": {},
   "outputs": [
    {
     "name": "stdout",
     "output_type": "stream",
     "text": [
      "Total Number of Numeric Features:  17\n"
     ]
    }
   ],
   "source": [
    "total_features = len(df.select_dtypes(include='number').columns)\n",
    "print(\"Total Number of Numeric Features: \", total_features)"
   ]
  },
  {
   "cell_type": "code",
   "execution_count": 7,
   "id": "ff3e8e17",
   "metadata": {},
   "outputs": [
    {
     "name": "stdout",
     "output_type": "stream",
     "text": [
      "Significantly Skewed Features: 7\n"
     ]
    }
   ],
   "source": [
    "skew_features = len(skewness[abs(skewness) > 0.5])\n",
    "print(\"Significantly Skewed Features:\", skew_features)"
   ]
  },
  {
   "cell_type": "code",
   "execution_count": 15,
   "id": "f4783031",
   "metadata": {},
   "outputs": [
    {
     "name": "stdout",
     "output_type": "stream",
     "text": [
      "W     -0.167715\n",
      "R      0.667934\n",
      "AB     0.250244\n",
      "H      0.621789\n",
      "2B     0.187929\n",
      "3B    -0.439240\n",
      "HR     0.103224\n",
      "BB    -0.051741\n",
      "SO    -0.486742\n",
      "SB    -0.168682\n",
      "RA    -0.242397\n",
      "ER    -0.279346\n",
      "ERA   -0.312583\n",
      "CG     0.487303\n",
      "SHO   -0.646300\n",
      "SV     0.298835\n",
      "E      0.565896\n",
      "dtype: float64\n",
      "Total count of numeric features:  17\n",
      "count of features which are significantly skewed:  4\n"
     ]
    }
   ],
   "source": [
    "for index in df.skew().index:\n",
    "    if df.skew().loc[index]>0.5:\n",
    "        df[index]=np.log1p(df[index])\n",
    "    if df.skew().loc[index]<-0.5:\n",
    "        df[index]=np.square(df[index])\n",
    "print(df.skew())\n",
    "print(\"Total count of numeric features: \",len(df.skew()))\n",
    "print(\"count of features which are significantly skewed: \",len(df.skew().loc[abs(df.skew())>0.5]))"
   ]
  },
  {
   "cell_type": "code",
   "execution_count": 17,
   "id": "8303dcd3",
   "metadata": {},
   "outputs": [
    {
     "name": "stdout",
     "output_type": "stream",
     "text": [
      "(30, 17)\n",
      "(29, 17)\n"
     ]
    }
   ],
   "source": [
    "from scipy.stats import zscore\n",
    "z_score = abs(zscore(df))\n",
    "print(df.shape)\n",
    "df_final=df.loc[(z_score<3).all(axis=1)]\n",
    "print(df_final.shape)"
   ]
  },
  {
   "cell_type": "code",
   "execution_count": 18,
   "id": "08020d5c",
   "metadata": {},
   "outputs": [],
   "source": [
    "from sklearn.preprocessing import StandardScaler"
   ]
  },
  {
   "cell_type": "code",
   "execution_count": 19,
   "id": "9d8bdc31",
   "metadata": {},
   "outputs": [],
   "source": [
    "sc = StandardScaler()\n",
    "sc.fit(df_final)\n",
    "df=sc.transform(df_final)\n",
    "df=pd.DataFrame(df,columns=df_final.columns)"
   ]
  },
  {
   "cell_type": "code",
   "execution_count": 20,
   "id": "ea1204db",
   "metadata": {},
   "outputs": [
    {
     "data": {
      "text/html": [
       "<div>\n",
       "<style scoped>\n",
       "    .dataframe tbody tr th:only-of-type {\n",
       "        vertical-align: middle;\n",
       "    }\n",
       "\n",
       "    .dataframe tbody tr th {\n",
       "        vertical-align: top;\n",
       "    }\n",
       "\n",
       "    .dataframe thead th {\n",
       "        text-align: right;\n",
       "    }\n",
       "</style>\n",
       "<table border=\"1\" class=\"dataframe\">\n",
       "  <thead>\n",
       "    <tr style=\"text-align: right;\">\n",
       "      <th></th>\n",
       "      <th>W</th>\n",
       "      <th>R</th>\n",
       "      <th>AB</th>\n",
       "      <th>H</th>\n",
       "      <th>2B</th>\n",
       "      <th>3B</th>\n",
       "      <th>HR</th>\n",
       "      <th>BB</th>\n",
       "      <th>SO</th>\n",
       "      <th>SB</th>\n",
       "      <th>RA</th>\n",
       "      <th>ER</th>\n",
       "      <th>ERA</th>\n",
       "      <th>CG</th>\n",
       "      <th>SHO</th>\n",
       "      <th>SV</th>\n",
       "      <th>E</th>\n",
       "    </tr>\n",
       "  </thead>\n",
       "  <tbody>\n",
       "    <tr>\n",
       "      <th>0</th>\n",
       "      <td>1.357337</td>\n",
       "      <td>0.951123</td>\n",
       "      <td>0.821227</td>\n",
       "      <td>1.721335</td>\n",
       "      <td>1.730449</td>\n",
       "      <td>0.971417</td>\n",
       "      <td>-0.743657</td>\n",
       "      <td>-1.627932</td>\n",
       "      <td>-2.944342</td>\n",
       "      <td>0.937209</td>\n",
       "      <td>-0.628637</td>\n",
       "      <td>-0.463821</td>\n",
       "      <td>-0.462607</td>\n",
       "      <td>-0.507316</td>\n",
       "      <td>-0.716564</td>\n",
       "      <td>1.582235</td>\n",
       "      <td>-0.425590</td>\n",
       "    </tr>\n",
       "    <tr>\n",
       "      <th>1</th>\n",
       "      <td>0.298233</td>\n",
       "      <td>0.360950</td>\n",
       "      <td>-0.710044</td>\n",
       "      <td>-0.951607</td>\n",
       "      <td>0.114703</td>\n",
       "      <td>1.106821</td>\n",
       "      <td>-0.112883</td>\n",
       "      <td>-0.450290</td>\n",
       "      <td>0.154616</td>\n",
       "      <td>-0.495204</td>\n",
       "      <td>0.204086</td>\n",
       "      <td>0.281208</td>\n",
       "      <td>0.288675</td>\n",
       "      <td>-0.507316</td>\n",
       "      <td>0.319320</td>\n",
       "      <td>0.274875</td>\n",
       "      <td>-0.592334</td>\n",
       "    </tr>\n",
       "    <tr>\n",
       "      <th>2</th>\n",
       "      <td>0.106928</td>\n",
       "      <td>-0.235176</td>\n",
       "      <td>-1.092517</td>\n",
       "      <td>-0.085799</td>\n",
       "      <td>1.970616</td>\n",
       "      <td>-0.106294</td>\n",
       "      <td>-0.666369</td>\n",
       "      <td>1.224055</td>\n",
       "      <td>-0.905917</td>\n",
       "      <td>0.249582</td>\n",
       "      <td>-0.643402</td>\n",
       "      <td>-0.721440</td>\n",
       "      <td>-0.602131</td>\n",
       "      <td>2.503691</td>\n",
       "      <td>-0.148771</td>\n",
       "      <td>-0.683170</td>\n",
       "      <td>-1.216047</td>\n",
       "    </tr>\n",
       "    <tr>\n",
       "      <th>3</th>\n",
       "      <td>-0.392802</td>\n",
       "      <td>-1.343608</td>\n",
       "      <td>0.215040</td>\n",
       "      <td>-0.345758</td>\n",
       "      <td>-0.847430</td>\n",
       "      <td>-0.314134</td>\n",
       "      <td>-0.861257</td>\n",
       "      <td>-1.167282</td>\n",
       "      <td>-0.163960</td>\n",
       "      <td>-0.600078</td>\n",
       "      <td>0.217586</td>\n",
       "      <td>0.142653</td>\n",
       "      <td>0.095991</td>\n",
       "      <td>1.381986</td>\n",
       "      <td>-0.417752</td>\n",
       "      <td>-0.830075</td>\n",
       "      <td>0.555158</td>\n",
       "    </tr>\n",
       "    <tr>\n",
       "      <th>4</th>\n",
       "      <td>-0.601964</td>\n",
       "      <td>0.209042</td>\n",
       "      <td>1.262688</td>\n",
       "      <td>2.025415</td>\n",
       "      <td>0.909496</td>\n",
       "      <td>1.420121</td>\n",
       "      <td>-0.292486</td>\n",
       "      <td>-0.141365</td>\n",
       "      <td>0.106810</td>\n",
       "      <td>0.121113</td>\n",
       "      <td>1.502329</td>\n",
       "      <td>1.476638</td>\n",
       "      <td>1.419202</td>\n",
       "      <td>1.381986</td>\n",
       "      <td>0.319320</td>\n",
       "      <td>-1.132502</td>\n",
       "      <td>-0.592334</td>\n",
       "    </tr>\n",
       "    <tr>\n",
       "      <th>5</th>\n",
       "      <td>0.667389</td>\n",
       "      <td>1.749303</td>\n",
       "      <td>0.704701</td>\n",
       "      <td>-0.048909</td>\n",
       "      <td>-0.187398</td>\n",
       "      <td>-1.335456</td>\n",
       "      <td>1.636557</td>\n",
       "      <td>1.557533</td>\n",
       "      <td>-0.203073</td>\n",
       "      <td>-0.876382</td>\n",
       "      <td>0.177026</td>\n",
       "      <td>0.267448</td>\n",
       "      <td>0.203561</td>\n",
       "      <td>-0.074035</td>\n",
       "      <td>-2.401704</td>\n",
       "      <td>0.652706</td>\n",
       "      <td>-0.028438</td>\n",
       "    </tr>\n",
       "    <tr>\n",
       "      <th>6</th>\n",
       "      <td>0.106928</td>\n",
       "      <td>0.722519</td>\n",
       "      <td>-0.461045</td>\n",
       "      <td>-0.552165</td>\n",
       "      <td>-1.510166</td>\n",
       "      <td>-1.186470</td>\n",
       "      <td>1.773819</td>\n",
       "      <td>-0.873299</td>\n",
       "      <td>0.780007</td>\n",
       "      <td>-2.174807</td>\n",
       "      <td>0.109037</td>\n",
       "      <td>0.184444</td>\n",
       "      <td>0.246222</td>\n",
       "      <td>-1.238852</td>\n",
       "      <td>-0.148771</td>\n",
       "      <td>0.012744</td>\n",
       "      <td>-1.406928</td>\n",
       "    </tr>\n",
       "    <tr>\n",
       "      <th>7</th>\n",
       "      <td>0.009497</td>\n",
       "      <td>-0.812925</td>\n",
       "      <td>-0.461045</td>\n",
       "      <td>-0.308435</td>\n",
       "      <td>0.177121</td>\n",
       "      <td>0.180078</td>\n",
       "      <td>0.266633</td>\n",
       "      <td>-0.509465</td>\n",
       "      <td>0.586962</td>\n",
       "      <td>0.291411</td>\n",
       "      <td>-0.613894</td>\n",
       "      <td>-0.419116</td>\n",
       "      <td>-0.439567</td>\n",
       "      <td>-0.947648</td>\n",
       "      <td>0.319320</td>\n",
       "      <td>2.010610</td>\n",
       "      <td>0.123110</td>\n",
       "    </tr>\n",
       "    <tr>\n",
       "      <th>8</th>\n",
       "      <td>-0.189073</td>\n",
       "      <td>1.436049</td>\n",
       "      <td>1.786764</td>\n",
       "      <td>1.687287</td>\n",
       "      <td>1.271269</td>\n",
       "      <td>0.269607</td>\n",
       "      <td>0.062188</td>\n",
       "      <td>0.284192</td>\n",
       "      <td>-0.998914</td>\n",
       "      <td>-0.443885</td>\n",
       "      <td>0.894325</td>\n",
       "      <td>0.827932</td>\n",
       "      <td>0.782652</td>\n",
       "      <td>-0.074035</td>\n",
       "      <td>-0.148771</td>\n",
       "      <td>-0.397391</td>\n",
       "      <td>0.270775</td>\n",
       "    </tr>\n",
       "    <tr>\n",
       "      <th>9</th>\n",
       "      <td>0.757025</td>\n",
       "      <td>1.495379</td>\n",
       "      <td>-0.097026</td>\n",
       "      <td>0.352884</td>\n",
       "      <td>0.240216</td>\n",
       "      <td>0.180078</td>\n",
       "      <td>0.432562</td>\n",
       "      <td>0.724127</td>\n",
       "      <td>-0.144445</td>\n",
       "      <td>0.831299</td>\n",
       "      <td>0.639739</td>\n",
       "      <td>0.644964</td>\n",
       "      <td>0.641439</td>\n",
       "      <td>0.706984</td>\n",
       "      <td>-0.417752</td>\n",
       "      <td>0.274875</td>\n",
       "      <td>1.682651</td>\n",
       "    </tr>\n",
       "    <tr>\n",
       "      <th>10</th>\n",
       "      <td>0.576716</td>\n",
       "      <td>1.053690</td>\n",
       "      <td>-0.819923</td>\n",
       "      <td>-0.684519</td>\n",
       "      <td>0.177121</td>\n",
       "      <td>-0.423886</td>\n",
       "      <td>2.119059</td>\n",
       "      <td>0.427426</td>\n",
       "      <td>1.326248</td>\n",
       "      <td>1.485031</td>\n",
       "      <td>-0.974216</td>\n",
       "      <td>-0.907845</td>\n",
       "      <td>-0.839705</td>\n",
       "      <td>0.706984</td>\n",
       "      <td>0.525506</td>\n",
       "      <td>-0.538979</td>\n",
       "      <td>-0.677513</td>\n",
       "    </tr>\n",
       "    <tr>\n",
       "      <th>11</th>\n",
       "      <td>0.484982</td>\n",
       "      <td>-0.417254</td>\n",
       "      <td>-1.388916</td>\n",
       "      <td>-1.299771</td>\n",
       "      <td>-1.638249</td>\n",
       "      <td>-1.044719</td>\n",
       "      <td>0.562545</td>\n",
       "      <td>-0.529281</td>\n",
       "      <td>-0.978194</td>\n",
       "      <td>-1.570559</td>\n",
       "      <td>-0.139854</td>\n",
       "      <td>-0.040726</td>\n",
       "      <td>0.008973</td>\n",
       "      <td>-0.507316</td>\n",
       "      <td>0.319320</td>\n",
       "      <td>0.402795</td>\n",
       "      <td>-0.028438</td>\n",
       "    </tr>\n",
       "    <tr>\n",
       "      <th>12</th>\n",
       "      <td>-0.392802</td>\n",
       "      <td>-0.532374</td>\n",
       "      <td>0.372475</td>\n",
       "      <td>-0.383145</td>\n",
       "      <td>-0.743564</td>\n",
       "      <td>-0.909535</td>\n",
       "      <td>1.237777</td>\n",
       "      <td>0.284192</td>\n",
       "      <td>0.825583</td>\n",
       "      <td>-0.547261</td>\n",
       "      <td>0.548990</td>\n",
       "      <td>0.605267</td>\n",
       "      <td>0.477205</td>\n",
       "      <td>1.056199</td>\n",
       "      <td>0.319320</td>\n",
       "      <td>0.274875</td>\n",
       "      <td>0.047833</td>\n",
       "    </tr>\n",
       "    <tr>\n",
       "      <th>13</th>\n",
       "      <td>-1.265157</td>\n",
       "      <td>0.317731</td>\n",
       "      <td>1.188617</td>\n",
       "      <td>0.098041</td>\n",
       "      <td>0.114703</td>\n",
       "      <td>1.236211</td>\n",
       "      <td>-0.476885</td>\n",
       "      <td>0.229860</td>\n",
       "      <td>-1.302889</td>\n",
       "      <td>-0.103687</td>\n",
       "      <td>0.587989</td>\n",
       "      <td>0.431188</td>\n",
       "      <td>0.435659</td>\n",
       "      <td>0.706984</td>\n",
       "      <td>0.894618</td>\n",
       "      <td>-2.296683</td>\n",
       "      <td>2.065870</td>\n",
       "    </tr>\n",
       "    <tr>\n",
       "      <th>14</th>\n",
       "      <td>1.759636</td>\n",
       "      <td>-0.742214</td>\n",
       "      <td>-0.474943</td>\n",
       "      <td>-0.252566</td>\n",
       "      <td>0.839357</td>\n",
       "      <td>0.755729</td>\n",
       "      <td>-0.821831</td>\n",
       "      <td>0.775444</td>\n",
       "      <td>0.183222</td>\n",
       "      <td>-0.547261</td>\n",
       "      <td>-2.516606</td>\n",
       "      <td>-2.519681</td>\n",
       "      <td>-2.503624</td>\n",
       "      <td>-0.947648</td>\n",
       "      <td>0.894618</td>\n",
       "      <td>2.216874</td>\n",
       "      <td>0.197417</td>\n",
       "    </tr>\n",
       "    <tr>\n",
       "      <th>15</th>\n",
       "      <td>1.601184</td>\n",
       "      <td>0.382505</td>\n",
       "      <td>1.651066</td>\n",
       "      <td>1.117758</td>\n",
       "      <td>1.124323</td>\n",
       "      <td>-0.314134</td>\n",
       "      <td>-0.704904</td>\n",
       "      <td>-0.028311</td>\n",
       "      <td>0.697596</td>\n",
       "      <td>0.722197</td>\n",
       "      <td>-1.317021</td>\n",
       "      <td>-1.558722</td>\n",
       "      <td>-1.752127</td>\n",
       "      <td>-1.238852</td>\n",
       "      <td>0.525506</td>\n",
       "      <td>1.359501</td>\n",
       "      <td>1.850181</td>\n",
       "    </tr>\n",
       "    <tr>\n",
       "      <th>16</th>\n",
       "      <td>1.520741</td>\n",
       "      <td>0.209042</td>\n",
       "      <td>-0.377499</td>\n",
       "      <td>-1.105677</td>\n",
       "      <td>-0.187398</td>\n",
       "      <td>-0.007678</td>\n",
       "      <td>0.399688</td>\n",
       "      <td>1.757695</td>\n",
       "      <td>2.392150</td>\n",
       "      <td>0.609702</td>\n",
       "      <td>-1.128498</td>\n",
       "      <td>-1.325510</td>\n",
       "      <td>-1.360464</td>\n",
       "      <td>1.056199</td>\n",
       "      <td>1.761765</td>\n",
       "      <td>0.652706</td>\n",
       "      <td>1.209349</td>\n",
       "    </tr>\n",
       "    <tr>\n",
       "      <th>17</th>\n",
       "      <td>-1.265157</td>\n",
       "      <td>-0.555522</td>\n",
       "      <td>-0.530458</td>\n",
       "      <td>-0.401862</td>\n",
       "      <td>-0.068536</td>\n",
       "      <td>0.356469</td>\n",
       "      <td>-0.514365</td>\n",
       "      <td>-0.998067</td>\n",
       "      <td>0.484777</td>\n",
       "      <td>0.164444</td>\n",
       "      <td>0.691207</td>\n",
       "      <td>0.671332</td>\n",
       "      <td>0.722412</td>\n",
       "      <td>-0.947648</td>\n",
       "      <td>-1.052227</td>\n",
       "      <td>-0.397391</td>\n",
       "      <td>1.509865</td>\n",
       "    </tr>\n",
       "    <tr>\n",
       "      <th>18</th>\n",
       "      <td>-1.740642</td>\n",
       "      <td>-0.907811</td>\n",
       "      <td>0.762901</td>\n",
       "      <td>-0.327089</td>\n",
       "      <td>-0.998799</td>\n",
       "      <td>-0.314134</td>\n",
       "      <td>0.266633</td>\n",
       "      <td>0.603189</td>\n",
       "      <td>0.068448</td>\n",
       "      <td>1.854290</td>\n",
       "      <td>0.906876</td>\n",
       "      <td>0.905219</td>\n",
       "      <td>0.822583</td>\n",
       "      <td>-0.507316</td>\n",
       "      <td>-0.716564</td>\n",
       "      <td>-1.132502</td>\n",
       "      <td>-0.263464</td>\n",
       "    </tr>\n",
       "    <tr>\n",
       "      <th>19</th>\n",
       "      <td>0.933282</td>\n",
       "      <td>0.077384</td>\n",
       "      <td>0.129561</td>\n",
       "      <td>-0.913255</td>\n",
       "      <td>1.345875</td>\n",
       "      <td>-1.658370</td>\n",
       "      <td>0.594670</td>\n",
       "      <td>0.462866</td>\n",
       "      <td>0.400617</td>\n",
       "      <td>-1.640800</td>\n",
       "      <td>-1.051042</td>\n",
       "      <td>-1.146429</td>\n",
       "      <td>-1.183446</td>\n",
       "      <td>-0.947648</td>\n",
       "      <td>0.716612</td>\n",
       "      <td>0.895149</td>\n",
       "      <td>-0.425590</td>\n",
       "    </tr>\n",
       "    <tr>\n",
       "      <th>20</th>\n",
       "      <td>0.298233</td>\n",
       "      <td>0.511074</td>\n",
       "      <td>-1.241167</td>\n",
       "      <td>-0.684519</td>\n",
       "      <td>-0.583241</td>\n",
       "      <td>-2.436057</td>\n",
       "      <td>0.594670</td>\n",
       "      <td>1.320656</td>\n",
       "      <td>0.898201</td>\n",
       "      <td>-1.238450</td>\n",
       "      <td>-0.717577</td>\n",
       "      <td>-0.829705</td>\n",
       "      <td>-0.720117</td>\n",
       "      <td>0.331132</td>\n",
       "      <td>0.525506</td>\n",
       "      <td>-0.258305</td>\n",
       "      <td>-0.263464</td>\n",
       "    </tr>\n",
       "    <tr>\n",
       "      <th>21</th>\n",
       "      <td>-0.926553</td>\n",
       "      <td>-1.567111</td>\n",
       "      <td>-0.765044</td>\n",
       "      <td>0.370975</td>\n",
       "      <td>-1.919197</td>\n",
       "      <td>0.829413</td>\n",
       "      <td>-1.525509</td>\n",
       "      <td>-1.810095</td>\n",
       "      <td>-0.978194</td>\n",
       "      <td>1.205358</td>\n",
       "      <td>-0.097914</td>\n",
       "      <td>0.072565</td>\n",
       "      <td>0.182153</td>\n",
       "      <td>-1.238852</td>\n",
       "      <td>0.319320</td>\n",
       "      <td>-1.132502</td>\n",
       "      <td>-1.406928</td>\n",
       "    </tr>\n",
       "    <tr>\n",
       "      <th>22</th>\n",
       "      <td>-1.381353</td>\n",
       "      <td>-2.609470</td>\n",
       "      <td>-1.348710</td>\n",
       "      <td>-0.722479</td>\n",
       "      <td>-1.286030</td>\n",
       "      <td>-1.492453</td>\n",
       "      <td>-2.461531</td>\n",
       "      <td>0.156882</td>\n",
       "      <td>-1.430652</td>\n",
       "      <td>-0.547261</td>\n",
       "      <td>0.981835</td>\n",
       "      <td>0.879531</td>\n",
       "      <td>0.980502</td>\n",
       "      <td>-0.074035</td>\n",
       "      <td>-0.148771</td>\n",
       "      <td>0.144883</td>\n",
       "      <td>-0.263464</td>\n",
       "    </tr>\n",
       "    <tr>\n",
       "      <th>23</th>\n",
       "      <td>-1.864158</td>\n",
       "      <td>-1.245492</td>\n",
       "      <td>0.158023</td>\n",
       "      <td>-0.476887</td>\n",
       "      <td>-0.187398</td>\n",
       "      <td>0.602524</td>\n",
       "      <td>-1.102747</td>\n",
       "      <td>-1.538273</td>\n",
       "      <td>0.249742</td>\n",
       "      <td>0.332762</td>\n",
       "      <td>1.572731</td>\n",
       "      <td>1.512671</td>\n",
       "      <td>1.511717</td>\n",
       "      <td>-0.947648</td>\n",
       "      <td>-1.052227</td>\n",
       "      <td>-1.132502</td>\n",
       "      <td>1.568063</td>\n",
       "    </tr>\n",
       "    <tr>\n",
       "      <th>24</th>\n",
       "      <td>1.105665</td>\n",
       "      <td>-0.280455</td>\n",
       "      <td>-1.813643</td>\n",
       "      <td>-1.009259</td>\n",
       "      <td>-0.690730</td>\n",
       "      <td>-0.423886</td>\n",
       "      <td>0.908156</td>\n",
       "      <td>1.696599</td>\n",
       "      <td>0.097229</td>\n",
       "      <td>-1.113693</td>\n",
       "      <td>-1.332903</td>\n",
       "      <td>-1.211137</td>\n",
       "      <td>-1.158444</td>\n",
       "      <td>1.056199</td>\n",
       "      <td>1.761765</td>\n",
       "      <td>0.528716</td>\n",
       "      <td>-1.604059</td>\n",
       "    </tr>\n",
       "    <tr>\n",
       "      <th>25</th>\n",
       "      <td>0.392164</td>\n",
       "      <td>0.360950</td>\n",
       "      <td>0.675647</td>\n",
       "      <td>1.533416</td>\n",
       "      <td>0.839357</td>\n",
       "      <td>0.755729</td>\n",
       "      <td>-0.861257</td>\n",
       "      <td>-0.103516</td>\n",
       "      <td>-0.885335</td>\n",
       "      <td>0.532715</td>\n",
       "      <td>-0.837481</td>\n",
       "      <td>-0.523776</td>\n",
       "      <td>-0.485708</td>\n",
       "      <td>1.381986</td>\n",
       "      <td>1.364916</td>\n",
       "      <td>-0.258305</td>\n",
       "      <td>-1.310729</td>\n",
       "    </tr>\n",
       "    <tr>\n",
       "      <th>26</th>\n",
       "      <td>-0.089160</td>\n",
       "      <td>0.868469</td>\n",
       "      <td>1.923113</td>\n",
       "      <td>1.670244</td>\n",
       "      <td>0.909496</td>\n",
       "      <td>1.360099</td>\n",
       "      <td>-0.184166</td>\n",
       "      <td>0.498161</td>\n",
       "      <td>0.605461</td>\n",
       "      <td>1.799876</td>\n",
       "      <td>0.378110</td>\n",
       "      <td>0.363326</td>\n",
       "      <td>0.224917</td>\n",
       "      <td>-0.947648</td>\n",
       "      <td>0.319320</td>\n",
       "      <td>0.144883</td>\n",
       "      <td>-0.592334</td>\n",
       "    </tr>\n",
       "    <tr>\n",
       "      <th>27</th>\n",
       "      <td>-0.601964</td>\n",
       "      <td>-0.671888</td>\n",
       "      <td>-0.847318</td>\n",
       "      <td>-1.436646</td>\n",
       "      <td>-0.847430</td>\n",
       "      <td>0.522791</td>\n",
       "      <td>-0.402532</td>\n",
       "      <td>-0.709698</td>\n",
       "      <td>0.743439</td>\n",
       "      <td>0.077256</td>\n",
       "      <td>0.613899</td>\n",
       "      <td>0.308664</td>\n",
       "      <td>0.330923</td>\n",
       "      <td>-0.947648</td>\n",
       "      <td>-1.434471</td>\n",
       "      <td>-0.258305</td>\n",
       "      <td>-0.105728</td>\n",
       "    </tr>\n",
       "    <tr>\n",
       "      <th>28</th>\n",
       "      <td>-1.265157</td>\n",
       "      <td>1.216092</td>\n",
       "      <td>0.777471</td>\n",
       "      <td>1.412991</td>\n",
       "      <td>-0.068536</td>\n",
       "      <td>1.420121</td>\n",
       "      <td>0.877423</td>\n",
       "      <td>-1.516002</td>\n",
       "      <td>0.334808</td>\n",
       "      <td>0.685086</td>\n",
       "      <td>1.973281</td>\n",
       "      <td>2.092858</td>\n",
       "      <td>2.133153</td>\n",
       "      <td>0.331132</td>\n",
       "      <td>-2.401704</td>\n",
       "      <td>-0.979811</td>\n",
       "      <td>0.123110</td>\n",
       "    </tr>\n",
       "  </tbody>\n",
       "</table>\n",
       "</div>"
      ],
      "text/plain": [
       "           W         R        AB         H        2B        3B        HR  \\\n",
       "0   1.357337  0.951123  0.821227  1.721335  1.730449  0.971417 -0.743657   \n",
       "1   0.298233  0.360950 -0.710044 -0.951607  0.114703  1.106821 -0.112883   \n",
       "2   0.106928 -0.235176 -1.092517 -0.085799  1.970616 -0.106294 -0.666369   \n",
       "3  -0.392802 -1.343608  0.215040 -0.345758 -0.847430 -0.314134 -0.861257   \n",
       "4  -0.601964  0.209042  1.262688  2.025415  0.909496  1.420121 -0.292486   \n",
       "5   0.667389  1.749303  0.704701 -0.048909 -0.187398 -1.335456  1.636557   \n",
       "6   0.106928  0.722519 -0.461045 -0.552165 -1.510166 -1.186470  1.773819   \n",
       "7   0.009497 -0.812925 -0.461045 -0.308435  0.177121  0.180078  0.266633   \n",
       "8  -0.189073  1.436049  1.786764  1.687287  1.271269  0.269607  0.062188   \n",
       "9   0.757025  1.495379 -0.097026  0.352884  0.240216  0.180078  0.432562   \n",
       "10  0.576716  1.053690 -0.819923 -0.684519  0.177121 -0.423886  2.119059   \n",
       "11  0.484982 -0.417254 -1.388916 -1.299771 -1.638249 -1.044719  0.562545   \n",
       "12 -0.392802 -0.532374  0.372475 -0.383145 -0.743564 -0.909535  1.237777   \n",
       "13 -1.265157  0.317731  1.188617  0.098041  0.114703  1.236211 -0.476885   \n",
       "14  1.759636 -0.742214 -0.474943 -0.252566  0.839357  0.755729 -0.821831   \n",
       "15  1.601184  0.382505  1.651066  1.117758  1.124323 -0.314134 -0.704904   \n",
       "16  1.520741  0.209042 -0.377499 -1.105677 -0.187398 -0.007678  0.399688   \n",
       "17 -1.265157 -0.555522 -0.530458 -0.401862 -0.068536  0.356469 -0.514365   \n",
       "18 -1.740642 -0.907811  0.762901 -0.327089 -0.998799 -0.314134  0.266633   \n",
       "19  0.933282  0.077384  0.129561 -0.913255  1.345875 -1.658370  0.594670   \n",
       "20  0.298233  0.511074 -1.241167 -0.684519 -0.583241 -2.436057  0.594670   \n",
       "21 -0.926553 -1.567111 -0.765044  0.370975 -1.919197  0.829413 -1.525509   \n",
       "22 -1.381353 -2.609470 -1.348710 -0.722479 -1.286030 -1.492453 -2.461531   \n",
       "23 -1.864158 -1.245492  0.158023 -0.476887 -0.187398  0.602524 -1.102747   \n",
       "24  1.105665 -0.280455 -1.813643 -1.009259 -0.690730 -0.423886  0.908156   \n",
       "25  0.392164  0.360950  0.675647  1.533416  0.839357  0.755729 -0.861257   \n",
       "26 -0.089160  0.868469  1.923113  1.670244  0.909496  1.360099 -0.184166   \n",
       "27 -0.601964 -0.671888 -0.847318 -1.436646 -0.847430  0.522791 -0.402532   \n",
       "28 -1.265157  1.216092  0.777471  1.412991 -0.068536  1.420121  0.877423   \n",
       "\n",
       "          BB        SO        SB        RA        ER       ERA        CG  \\\n",
       "0  -1.627932 -2.944342  0.937209 -0.628637 -0.463821 -0.462607 -0.507316   \n",
       "1  -0.450290  0.154616 -0.495204  0.204086  0.281208  0.288675 -0.507316   \n",
       "2   1.224055 -0.905917  0.249582 -0.643402 -0.721440 -0.602131  2.503691   \n",
       "3  -1.167282 -0.163960 -0.600078  0.217586  0.142653  0.095991  1.381986   \n",
       "4  -0.141365  0.106810  0.121113  1.502329  1.476638  1.419202  1.381986   \n",
       "5   1.557533 -0.203073 -0.876382  0.177026  0.267448  0.203561 -0.074035   \n",
       "6  -0.873299  0.780007 -2.174807  0.109037  0.184444  0.246222 -1.238852   \n",
       "7  -0.509465  0.586962  0.291411 -0.613894 -0.419116 -0.439567 -0.947648   \n",
       "8   0.284192 -0.998914 -0.443885  0.894325  0.827932  0.782652 -0.074035   \n",
       "9   0.724127 -0.144445  0.831299  0.639739  0.644964  0.641439  0.706984   \n",
       "10  0.427426  1.326248  1.485031 -0.974216 -0.907845 -0.839705  0.706984   \n",
       "11 -0.529281 -0.978194 -1.570559 -0.139854 -0.040726  0.008973 -0.507316   \n",
       "12  0.284192  0.825583 -0.547261  0.548990  0.605267  0.477205  1.056199   \n",
       "13  0.229860 -1.302889 -0.103687  0.587989  0.431188  0.435659  0.706984   \n",
       "14  0.775444  0.183222 -0.547261 -2.516606 -2.519681 -2.503624 -0.947648   \n",
       "15 -0.028311  0.697596  0.722197 -1.317021 -1.558722 -1.752127 -1.238852   \n",
       "16  1.757695  2.392150  0.609702 -1.128498 -1.325510 -1.360464  1.056199   \n",
       "17 -0.998067  0.484777  0.164444  0.691207  0.671332  0.722412 -0.947648   \n",
       "18  0.603189  0.068448  1.854290  0.906876  0.905219  0.822583 -0.507316   \n",
       "19  0.462866  0.400617 -1.640800 -1.051042 -1.146429 -1.183446 -0.947648   \n",
       "20  1.320656  0.898201 -1.238450 -0.717577 -0.829705 -0.720117  0.331132   \n",
       "21 -1.810095 -0.978194  1.205358 -0.097914  0.072565  0.182153 -1.238852   \n",
       "22  0.156882 -1.430652 -0.547261  0.981835  0.879531  0.980502 -0.074035   \n",
       "23 -1.538273  0.249742  0.332762  1.572731  1.512671  1.511717 -0.947648   \n",
       "24  1.696599  0.097229 -1.113693 -1.332903 -1.211137 -1.158444  1.056199   \n",
       "25 -0.103516 -0.885335  0.532715 -0.837481 -0.523776 -0.485708  1.381986   \n",
       "26  0.498161  0.605461  1.799876  0.378110  0.363326  0.224917 -0.947648   \n",
       "27 -0.709698  0.743439  0.077256  0.613899  0.308664  0.330923 -0.947648   \n",
       "28 -1.516002  0.334808  0.685086  1.973281  2.092858  2.133153  0.331132   \n",
       "\n",
       "         SHO        SV         E  \n",
       "0  -0.716564  1.582235 -0.425590  \n",
       "1   0.319320  0.274875 -0.592334  \n",
       "2  -0.148771 -0.683170 -1.216047  \n",
       "3  -0.417752 -0.830075  0.555158  \n",
       "4   0.319320 -1.132502 -0.592334  \n",
       "5  -2.401704  0.652706 -0.028438  \n",
       "6  -0.148771  0.012744 -1.406928  \n",
       "7   0.319320  2.010610  0.123110  \n",
       "8  -0.148771 -0.397391  0.270775  \n",
       "9  -0.417752  0.274875  1.682651  \n",
       "10  0.525506 -0.538979 -0.677513  \n",
       "11  0.319320  0.402795 -0.028438  \n",
       "12  0.319320  0.274875  0.047833  \n",
       "13  0.894618 -2.296683  2.065870  \n",
       "14  0.894618  2.216874  0.197417  \n",
       "15  0.525506  1.359501  1.850181  \n",
       "16  1.761765  0.652706  1.209349  \n",
       "17 -1.052227 -0.397391  1.509865  \n",
       "18 -0.716564 -1.132502 -0.263464  \n",
       "19  0.716612  0.895149 -0.425590  \n",
       "20  0.525506 -0.258305 -0.263464  \n",
       "21  0.319320 -1.132502 -1.406928  \n",
       "22 -0.148771  0.144883 -0.263464  \n",
       "23 -1.052227 -1.132502  1.568063  \n",
       "24  1.761765  0.528716 -1.604059  \n",
       "25  1.364916 -0.258305 -1.310729  \n",
       "26  0.319320  0.144883 -0.592334  \n",
       "27 -1.434471 -0.258305 -0.105728  \n",
       "28 -2.401704 -0.979811  0.123110  "
      ]
     },
     "execution_count": 20,
     "metadata": {},
     "output_type": "execute_result"
    }
   ],
   "source": [
    "df"
   ]
  },
  {
   "cell_type": "markdown",
   "id": "02c6b72a",
   "metadata": {},
   "source": [
    "### Dataset has been Scalled for Usage"
   ]
  },
  {
   "cell_type": "markdown",
   "id": "4d9f9f70",
   "metadata": {},
   "source": [
    "Seperate Dependent and Independent Feature from Dataset"
   ]
  },
  {
   "cell_type": "code",
   "execution_count": 24,
   "id": "9335bda7",
   "metadata": {},
   "outputs": [
    {
     "name": "stdout",
     "output_type": "stream",
     "text": [
      "(29, 16) (29, 1)\n"
     ]
    }
   ],
   "source": [
    "X = df.drop(['W'], axis=1)\n",
    "y = df[['W']]\n",
    "print((X.shape),(y.shape))"
   ]
  },
  {
   "cell_type": "code",
   "execution_count": 21,
   "id": "db3f73ed",
   "metadata": {},
   "outputs": [],
   "source": [
    "#Feature Importance"
   ]
  },
  {
   "cell_type": "code",
   "execution_count": 22,
   "id": "16bdaf38",
   "metadata": {},
   "outputs": [],
   "source": [
    "from sklearn.ensemble import ExtraTreesRegressor"
   ]
  },
  {
   "cell_type": "code",
   "execution_count": 25,
   "id": "e524922a",
   "metadata": {
    "scrolled": true
   },
   "outputs": [
    {
     "name": "stderr",
     "output_type": "stream",
     "text": [
      "C:\\Users\\cws\\anaconda3\\update\\lib\\site-packages\\sklearn\\base.py:1151: DataConversionWarning: A column-vector y was passed when a 1d array was expected. Please change the shape of y to (n_samples,), for example using ravel().\n",
      "  return fit_method(estimator, *args, **kwargs)\n"
     ]
    },
    {
     "data": {
      "text/html": [
       "<style>#sk-container-id-1 {color: black;}#sk-container-id-1 pre{padding: 0;}#sk-container-id-1 div.sk-toggleable {background-color: white;}#sk-container-id-1 label.sk-toggleable__label {cursor: pointer;display: block;width: 100%;margin-bottom: 0;padding: 0.3em;box-sizing: border-box;text-align: center;}#sk-container-id-1 label.sk-toggleable__label-arrow:before {content: \"▸\";float: left;margin-right: 0.25em;color: #696969;}#sk-container-id-1 label.sk-toggleable__label-arrow:hover:before {color: black;}#sk-container-id-1 div.sk-estimator:hover label.sk-toggleable__label-arrow:before {color: black;}#sk-container-id-1 div.sk-toggleable__content {max-height: 0;max-width: 0;overflow: hidden;text-align: left;background-color: #f0f8ff;}#sk-container-id-1 div.sk-toggleable__content pre {margin: 0.2em;color: black;border-radius: 0.25em;background-color: #f0f8ff;}#sk-container-id-1 input.sk-toggleable__control:checked~div.sk-toggleable__content {max-height: 200px;max-width: 100%;overflow: auto;}#sk-container-id-1 input.sk-toggleable__control:checked~label.sk-toggleable__label-arrow:before {content: \"▾\";}#sk-container-id-1 div.sk-estimator input.sk-toggleable__control:checked~label.sk-toggleable__label {background-color: #d4ebff;}#sk-container-id-1 div.sk-label input.sk-toggleable__control:checked~label.sk-toggleable__label {background-color: #d4ebff;}#sk-container-id-1 input.sk-hidden--visually {border: 0;clip: rect(1px 1px 1px 1px);clip: rect(1px, 1px, 1px, 1px);height: 1px;margin: -1px;overflow: hidden;padding: 0;position: absolute;width: 1px;}#sk-container-id-1 div.sk-estimator {font-family: monospace;background-color: #f0f8ff;border: 1px dotted black;border-radius: 0.25em;box-sizing: border-box;margin-bottom: 0.5em;}#sk-container-id-1 div.sk-estimator:hover {background-color: #d4ebff;}#sk-container-id-1 div.sk-parallel-item::after {content: \"\";width: 100%;border-bottom: 1px solid gray;flex-grow: 1;}#sk-container-id-1 div.sk-label:hover label.sk-toggleable__label {background-color: #d4ebff;}#sk-container-id-1 div.sk-serial::before {content: \"\";position: absolute;border-left: 1px solid gray;box-sizing: border-box;top: 0;bottom: 0;left: 50%;z-index: 0;}#sk-container-id-1 div.sk-serial {display: flex;flex-direction: column;align-items: center;background-color: white;padding-right: 0.2em;padding-left: 0.2em;position: relative;}#sk-container-id-1 div.sk-item {position: relative;z-index: 1;}#sk-container-id-1 div.sk-parallel {display: flex;align-items: stretch;justify-content: center;background-color: white;position: relative;}#sk-container-id-1 div.sk-item::before, #sk-container-id-1 div.sk-parallel-item::before {content: \"\";position: absolute;border-left: 1px solid gray;box-sizing: border-box;top: 0;bottom: 0;left: 50%;z-index: -1;}#sk-container-id-1 div.sk-parallel-item {display: flex;flex-direction: column;z-index: 1;position: relative;background-color: white;}#sk-container-id-1 div.sk-parallel-item:first-child::after {align-self: flex-end;width: 50%;}#sk-container-id-1 div.sk-parallel-item:last-child::after {align-self: flex-start;width: 50%;}#sk-container-id-1 div.sk-parallel-item:only-child::after {width: 0;}#sk-container-id-1 div.sk-dashed-wrapped {border: 1px dashed gray;margin: 0 0.4em 0.5em 0.4em;box-sizing: border-box;padding-bottom: 0.4em;background-color: white;}#sk-container-id-1 div.sk-label label {font-family: monospace;font-weight: bold;display: inline-block;line-height: 1.2em;}#sk-container-id-1 div.sk-label-container {text-align: center;}#sk-container-id-1 div.sk-container {/* jupyter's `normalize.less` sets `[hidden] { display: none; }` but bootstrap.min.css set `[hidden] { display: none !important; }` so we also need the `!important` here to be able to override the default hidden behavior on the sphinx rendered scikit-learn.org. See: https://github.com/scikit-learn/scikit-learn/issues/21755 */display: inline-block !important;position: relative;}#sk-container-id-1 div.sk-text-repr-fallback {display: none;}</style><div id=\"sk-container-id-1\" class=\"sk-top-container\"><div class=\"sk-text-repr-fallback\"><pre>ExtraTreesRegressor()</pre><b>In a Jupyter environment, please rerun this cell to show the HTML representation or trust the notebook. <br />On GitHub, the HTML representation is unable to render, please try loading this page with nbviewer.org.</b></div><div class=\"sk-container\" hidden><div class=\"sk-item\"><div class=\"sk-estimator sk-toggleable\"><input class=\"sk-toggleable__control sk-hidden--visually\" id=\"sk-estimator-id-1\" type=\"checkbox\" checked><label for=\"sk-estimator-id-1\" class=\"sk-toggleable__label sk-toggleable__label-arrow\">ExtraTreesRegressor</label><div class=\"sk-toggleable__content\"><pre>ExtraTreesRegressor()</pre></div></div></div></div></div>"
      ],
      "text/plain": [
       "ExtraTreesRegressor()"
      ]
     },
     "execution_count": 25,
     "metadata": {},
     "output_type": "execute_result"
    }
   ],
   "source": [
    "model = ExtraTreesRegressor()\n",
    "model.fit(X,y)"
   ]
  },
  {
   "cell_type": "code",
   "execution_count": 26,
   "id": "c36b7de1",
   "metadata": {},
   "outputs": [
    {
     "name": "stdout",
     "output_type": "stream",
     "text": [
      "[0.05359219 0.01178893 0.01704984 0.02477152 0.01042346 0.03636765\n",
      " 0.02105156 0.02750115 0.01393173 0.18288992 0.20414417 0.19610061\n",
      " 0.01328135 0.01658173 0.1540159  0.01650828]\n"
     ]
    }
   ],
   "source": [
    "print(model.feature_importances_)"
   ]
  },
  {
   "cell_type": "code",
   "execution_count": 28,
   "id": "dedce015",
   "metadata": {},
   "outputs": [
    {
     "data": {
      "image/png": "[encoded data removed]",
      "text/plain": [
       "<Figure size 640x480 with 1 Axes>"
      ]
     },
     "metadata": {},
     "output_type": "display_data"
    }
   ],
   "source": [
    "feat_importances = pd.Series(model.feature_importances_, index=X.columns)\n",
    "feat_importances.nlargest(5).plot(kind='bar')\n",
    "plt.show()"
   ]
  },
  {
   "cell_type": "markdown",
   "id": "8a553f37",
   "metadata": {},
   "source": [
    "Plotted Best 5 Graph of Features of Importances "
   ]
  },
  {
   "cell_type": "code",
   "execution_count": 29,
   "id": "71347600",
   "metadata": {},
   "outputs": [
    {
     "data": {
      "text/plain": [
       "<Axes: xlabel='W', ylabel='R'>"
      ]
     },
     "execution_count": 29,
     "metadata": {},
     "output_type": "execute_result"
    },
    {
     "data": {
      "image/png": "[encoded data removed]",
      "text/plain": [
       "<Figure size 640x480 with 1 Axes>"
      ]
     },
     "metadata": {},
     "output_type": "display_data"
    }
   ],
   "source": [
    "sns.scatterplot(x='W',y='R',hue='E',data=df)"
   ]
  },
  {
   "cell_type": "code",
   "execution_count": 30,
   "id": "b90accf3",
   "metadata": {},
   "outputs": [
    {
     "data": {
      "text/plain": [
       "<Axes: xlabel='W', ylabel='ER'>"
      ]
     },
     "execution_count": 30,
     "metadata": {},
     "output_type": "execute_result"
    },
    {
     "data": {
      "image/png": "[encoded data removed]",
      "text/plain": [
       "<Figure size 640x480 with 1 Axes>"
      ]
     },
     "metadata": {},
     "output_type": "display_data"
    }
   ],
   "source": [
    "sns.scatterplot(x='W',y='ER',hue='E',data=df)"
   ]
  },
  {
   "cell_type": "code",
   "execution_count": 31,
   "id": "d18faded",
   "metadata": {},
   "outputs": [
    {
     "data": {
      "text/plain": [
       "<Axes: xlabel='W', ylabel='ERA'>"
      ]
     },
     "execution_count": 31,
     "metadata": {},
     "output_type": "execute_result"
    },
    {
     "data": {
      "image/png": "[encoded data removed]",
      "text/plain": [
       "<Figure size 640x480 with 1 Axes>"
      ]
     },
     "metadata": {},
     "output_type": "display_data"
    }
   ],
   "source": [
    "sns.scatterplot(x='W',y='ERA',hue='E',data=df)"
   ]
  },
  {
   "cell_type": "code",
   "execution_count": 32,
   "id": "4534170f",
   "metadata": {},
   "outputs": [
    {
     "data": {
      "text/plain": [
       "<Axes: xlabel='W', ylabel='RA'>"
      ]
     },
     "execution_count": 32,
     "metadata": {},
     "output_type": "execute_result"
    },
    {
     "data": {
      "image/png": "[encoded data removed]",
      "text/plain": [
       "<Figure size 640x480 with 1 Axes>"
      ]
     },
     "metadata": {},
     "output_type": "display_data"
    }
   ],
   "source": [
    "sns.scatterplot(x='W',y='RA',hue='E',data=df)"
   ]
  },
  {
   "cell_type": "code",
   "execution_count": 33,
   "id": "0bdab83b",
   "metadata": {},
   "outputs": [
    {
     "data": {
      "text/plain": [
       "<Axes: xlabel='W', ylabel='SV'>"
      ]
     },
     "execution_count": 33,
     "metadata": {},
     "output_type": "execute_result"
    },
    {
     "data": {
      "image/png": "[encoded data removed]",
      "text/plain": [
       "<Figure size 640x480 with 1 Axes>"
      ]
     },
     "metadata": {},
     "output_type": "display_data"
    }
   ],
   "source": [
    "sns.scatterplot(x='W',y='SV',hue='E',data=df)"
   ]
  },
  {
   "cell_type": "markdown",
   "id": "c07de423",
   "metadata": {},
   "source": [
    "### Model Testing"
   ]
  },
  {
   "cell_type": "code",
   "execution_count": 34,
   "id": "74d0355f",
   "metadata": {},
   "outputs": [],
   "source": [
    "from sklearn.model_selection import train_test_split"
   ]
  },
  {
   "cell_type": "code",
   "execution_count": 39,
   "id": "b6253816",
   "metadata": {},
   "outputs": [],
   "source": [
    "from sklearn.metrics import mean_absolute_error\n",
    "from sklearn.metrics import mean_squared_error\n",
    "from sklearn.metrics import r2_score"
   ]
  },
  {
   "cell_type": "code",
   "execution_count": 43,
   "id": "04789189",
   "metadata": {},
   "outputs": [
    {
     "name": "stdout",
     "output_type": "stream",
     "text": [
      "r2 Score to Corresponding Random State: 42  is: 0.47363607798118434\n",
      "r2 Score to Corresponding Random State: 43  is: 0.26769926489672846\n",
      "r2 Score to Corresponding Random State: 44  is: 0.7659005830863914\n",
      "r2 Score to Corresponding Random State: 45  is: 0.3593504264712579\n",
      "r2 Score to Corresponding Random State: 46  is: 0.7545048548043229\n",
      "r2 Score to Corresponding Random State: 47  is: 0.1988315092258739\n",
      "r2 Score to Corresponding Random State: 48  is: 0.3317393222592929\n",
      "r2 Score to Corresponding Random State: 49  is: 0.3590468203831466\n",
      "r2 Score to Corresponding Random State: 50  is: 0.868638248646434\n",
      "r2 Score to Corresponding Random State: 51  is: 0.3026783545066164\n",
      "r2 Score to Corresponding Random State: 52  is: 0.144908611157457\n",
      "r2 Score to Corresponding Random State: 53  is: 0.7280355999380248\n",
      "r2 Score to Corresponding Random State: 54  is: 0.5807443775343117\n",
      "r2 Score to Corresponding Random State: 55  is: 0.8898620242377956\n",
      "r2 Score to Corresponding Random State: 56  is: 0.8657979295236158\n",
      "r2 Score to Corresponding Random State: 57  is: 0.8530352702443671\n",
      "r2 Score to Corresponding Random State: 58  is: 0.7673559608908325\n",
      "r2 Score to Corresponding Random State: 59  is: 0.7231936888634841\n",
      "r2 Score to Corresponding Random State: 60  is: 0.6975565369545608\n",
      "r2 Score to Corresponding Random State: 61  is: 0.8219607420335394\n",
      "r2 Score to Corresponding Random State: 62  is: 0.7058080748608327\n",
      "r2 Score to Corresponding Random State: 63  is: 0.5976191542099872\n",
      "r2 Score to Corresponding Random State: 64  is: 0.740164142227893\n",
      "r2 Score to Corresponding Random State: 65  is: 0.7936757704884944\n",
      "r2 Score to Corresponding Random State: 66  is: 0.8274385466064949\n",
      "r2 Score to Corresponding Random State: 67  is: 0.9074212626440621\n",
      "r2 Score to Corresponding Random State: 68  is: -0.239213102591475\n",
      "r2 Score to Corresponding Random State: 69  is: 0.7625401790426318\n",
      "r2 Score to Corresponding Random State: 70  is: 0.6557633175368955\n",
      "r2 Score to Corresponding Random State: 71  is: -0.27823520586939243\n",
      "r2 Score to Corresponding Random State: 72  is: -0.014012430845291135\n",
      "r2 Score to Corresponding Random State: 73  is: 0.8351896855602352\n",
      "r2 Score to Corresponding Random State: 74  is: 0.1348662165775455\n",
      "r2 Score to Corresponding Random State: 75  is: 0.367537338747585\n",
      "r2 Score to Corresponding Random State: 76  is: 0.7983875955935139\n",
      "r2 Score to Corresponding Random State: 77  is: 0.856734252014109\n",
      "r2 Score to Corresponding Random State: 78  is: 0.6636102625122947\n",
      "r2 Score to Corresponding Random State: 79  is: 0.6754615449479241\n",
      "r2 Score to Corresponding Random State: 80  is: 0.7591717567894039\n",
      "r2 Score to Corresponding Random State: 81  is: 0.8898535759772215\n",
      "r2 Score to Corresponding Random State: 82  is: 0.8060281461158911\n",
      "r2 Score to Corresponding Random State: 83  is: 0.7592699287029643\n",
      "r2 Score to Corresponding Random State: 84  is: 0.6032866899264604\n",
      "r2 Score to Corresponding Random State: 85  is: 0.5747732966219666\n",
      "r2 Score to Corresponding Random State: 86  is: -0.39865701826678546\n",
      "r2 Score to Corresponding Random State: 87  is: 0.5888171641446107\n",
      "r2 Score to Corresponding Random State: 88  is: -0.2082257037614037\n",
      "r2 Score to Corresponding Random State: 89  is: 0.7985489548722307\n",
      "r2 Score to Corresponding Random State: 90  is: 0.8610779628544796\n",
      "r2 Score to Corresponding Random State: 91  is: 0.8389689573586023\n",
      "r2 Score to Corresponding Random State: 92  is: 0.6754779237172327\n",
      "r2 Score to Corresponding Random State: 93  is: 0.7927602423430202\n",
      "r2 Score to Corresponding Random State: 94  is: 0.5765756859156083\n",
      "r2 Score to Corresponding Random State: 95  is: 0.6987000611122312\n",
      "r2 Score to Corresponding Random State: 96  is: 0.38597619258000937\n",
      "r2 Score to Corresponding Random State: 97  is: 0.6614417742754761\n",
      "r2 Score to Corresponding Random State: 98  is: -0.2736416823621275\n",
      "r2 Score to Corresponding Random State: 99  is: 0.8794483185542517\n",
      "r2 Score to Corresponding Random State: 100  is: 0.5708073023873259\n",
      "\n",
      "\n",
      "max r2 Score corresponding to: 67  is  0.9074212626440621\n"
     ]
    }
   ],
   "source": [
    "#Model 1\n",
    "from sklearn.linear_model import LinearRegression\n",
    "max_r_score = 0\n",
    "final_r_state = None\n",
    "\n",
    "for r_state in range(42, 101):\n",
    "    X_train, X_test, y_train, y_test = train_test_split(X, y, random_state=r_state, test_size=0.20)\n",
    "    regr = LinearRegression()\n",
    "    regr.fit(X_train, y_train)\n",
    "    y_pred = regr.predict(X_test)\n",
    "    r2_scr = r2_score(y_test, y_pred)\n",
    "    print(\"r2 Score to Corresponding Random State:\", r_state, \" is:\", r2_scr)\n",
    "    if r2_scr > max_r_score:\n",
    "        max_r_score = r2_scr\n",
    "        final_r_state = r_state\n",
    "\n",
    "print()\n",
    "print()\n",
    "print(\"max r2 Score corresponding to:\", final_r_state, \" is \", max_r_score)"
   ]
  },
  {
   "cell_type": "code",
   "execution_count": 44,
   "id": "e06f9b5f",
   "metadata": {},
   "outputs": [],
   "source": [
    "from sklearn.model_selection import cross_val_score"
   ]
  },
  {
   "cell_type": "code",
   "execution_count": 46,
   "id": "fca0d32c",
   "metadata": {},
   "outputs": [
    {
     "name": "stdout",
     "output_type": "stream",
     "text": [
      "Cross-validated R2 mean: 0.6086937303094263\n"
     ]
    }
   ],
   "source": [
    "cross_val_r2_mean = cross_val_score(regr, X, y, cv=5, scoring=\"r2\").mean()\n",
    "print(\"Cross-validated R2 mean:\", cross_val_r2_mean)"
   ]
  },
  {
   "cell_type": "code",
   "execution_count": 47,
   "id": "79bde559",
   "metadata": {},
   "outputs": [],
   "source": [
    "import warnings\n",
    "warnings.filterwarnings(\"ignore\")"
   ]
  },
  {
   "cell_type": "code",
   "execution_count": 48,
   "id": "c4358c54",
   "metadata": {},
   "outputs": [
    {
     "name": "stdout",
     "output_type": "stream",
     "text": [
      "r2 Score to Corresponding Random State: 42  is: 0.35158600907950377\n",
      "r2 Score to Corresponding Random State: 43  is: 0.07513394024130149\n",
      "r2 Score to Corresponding Random State: 44  is: 0.40179280396522377\n",
      "r2 Score to Corresponding Random State: 45  is: 0.11856295231717828\n",
      "r2 Score to Corresponding Random State: 46  is: 0.5192568875254584\n",
      "r2 Score to Corresponding Random State: 47  is: 0.6017187076598802\n",
      "r2 Score to Corresponding Random State: 48  is: 0.48125024208247635\n",
      "r2 Score to Corresponding Random State: 49  is: -1.4274778284507001\n",
      "r2 Score to Corresponding Random State: 50  is: 0.20369037033694637\n",
      "r2 Score to Corresponding Random State: 51  is: 0.39669242389631143\n",
      "r2 Score to Corresponding Random State: 52  is: 0.31877277154482864\n",
      "r2 Score to Corresponding Random State: 53  is: 0.40136780792016113\n",
      "r2 Score to Corresponding Random State: 54  is: 0.6202193528420707\n",
      "r2 Score to Corresponding Random State: 55  is: 0.6102390654045062\n",
      "r2 Score to Corresponding Random State: 56  is: 0.25925209941445615\n",
      "r2 Score to Corresponding Random State: 57  is: 0.569958894415744\n",
      "r2 Score to Corresponding Random State: 58  is: 0.3148536841627104\n",
      "r2 Score to Corresponding Random State: 59  is: 0.36919003307222276\n",
      "r2 Score to Corresponding Random State: 60  is: 0.3913386220012075\n",
      "r2 Score to Corresponding Random State: 61  is: 0.6693165554413856\n",
      "r2 Score to Corresponding Random State: 62  is: 0.10769520595641635\n",
      "r2 Score to Corresponding Random State: 63  is: 0.195636896213643\n",
      "r2 Score to Corresponding Random State: 64  is: 0.5079362746689486\n",
      "r2 Score to Corresponding Random State: 65  is: 0.5662647598583072\n",
      "r2 Score to Corresponding Random State: 66  is: 0.30638636493170746\n",
      "r2 Score to Corresponding Random State: 67  is: 0.5093498612631777\n",
      "r2 Score to Corresponding Random State: 68  is: 0.48564811849248424\n",
      "r2 Score to Corresponding Random State: 69  is: 0.22744359129560043\n",
      "r2 Score to Corresponding Random State: 70  is: 0.43004815609732805\n",
      "r2 Score to Corresponding Random State: 71  is: -0.06923477865040373\n",
      "r2 Score to Corresponding Random State: 72  is: 0.0662389131891602\n",
      "r2 Score to Corresponding Random State: 73  is: 0.5271017158724032\n",
      "r2 Score to Corresponding Random State: 74  is: -0.6348236262249107\n",
      "r2 Score to Corresponding Random State: 75  is: 0.5964472060569528\n",
      "r2 Score to Corresponding Random State: 76  is: 0.5109171313163845\n",
      "r2 Score to Corresponding Random State: 77  is: 0.4843962986396736\n",
      "r2 Score to Corresponding Random State: 78  is: 0.37620674272599697\n",
      "r2 Score to Corresponding Random State: 79  is: 0.3227814084530103\n",
      "r2 Score to Corresponding Random State: 80  is: 0.4602708516102586\n",
      "r2 Score to Corresponding Random State: 81  is: 0.5219485328960776\n",
      "r2 Score to Corresponding Random State: 82  is: 0.7019658113694929\n",
      "r2 Score to Corresponding Random State: 83  is: 0.4774921475919245\n",
      "r2 Score to Corresponding Random State: 84  is: 0.418531963932971\n",
      "r2 Score to Corresponding Random State: 85  is: 0.3919900273157919\n",
      "r2 Score to Corresponding Random State: 86  is: -0.20506317687140063\n",
      "r2 Score to Corresponding Random State: 87  is: 0.2504233154313038\n",
      "r2 Score to Corresponding Random State: 88  is: 0.22929065384799874\n",
      "r2 Score to Corresponding Random State: 89  is: 0.30832147004866894\n",
      "r2 Score to Corresponding Random State: 90  is: 0.5035310494690373\n",
      "r2 Score to Corresponding Random State: 91  is: 0.1525761450395392\n",
      "r2 Score to Corresponding Random State: 92  is: 0.37410799825113217\n",
      "r2 Score to Corresponding Random State: 93  is: 0.5101081152051467\n",
      "r2 Score to Corresponding Random State: 94  is: 0.36400128743213833\n",
      "r2 Score to Corresponding Random State: 95  is: 0.44637618220669173\n",
      "r2 Score to Corresponding Random State: 96  is: 0.30480385083220285\n",
      "r2 Score to Corresponding Random State: 97  is: 0.6256255194843063\n",
      "r2 Score to Corresponding Random State: 98  is: -0.08154944369992378\n",
      "r2 Score to Corresponding Random State: 99  is: 0.6138803120532605\n",
      "r2 Score to Corresponding Random State: 100  is: 0.061824243211623164\n",
      "\n",
      "\n",
      "max r2 Score corresponding to: 82  is  0.7019658113694929\n"
     ]
    }
   ],
   "source": [
    "#Model 2\n",
    "from sklearn.svm import SVR\n",
    "max_r_score = 0\n",
    "final_r_state = None\n",
    "\n",
    "for r_state in range(42, 101):\n",
    "    X_train, X_test, y_train, y_test = train_test_split(X, y, random_state=r_state, test_size=0.20)\n",
    "    svr = SVR()\n",
    "    svr.fit(X_train, y_train)\n",
    "    y_pred = svr.predict(X_test)\n",
    "    r2_scr = r2_score(y_test, y_pred)\n",
    "    print(\"r2 Score to Corresponding Random State:\", r_state, \" is:\", r2_scr)\n",
    "    if r2_scr > max_r_score:\n",
    "        max_r_score = r2_scr\n",
    "        final_r_state = r_state\n",
    "\n",
    "print()\n",
    "print()\n",
    "print(\"max r2 Score corresponding to:\", final_r_state, \" is \", max_r_score)"
   ]
  },
  {
   "cell_type": "code",
   "execution_count": 49,
   "id": "e388e6bf",
   "metadata": {},
   "outputs": [
    {
     "name": "stdout",
     "output_type": "stream",
     "text": [
      "Cross-validated R2 mean: -0.20562227103820296\n"
     ]
    }
   ],
   "source": [
    "cross_val_r2_mean = cross_val_score(svr, X, y, cv=5, scoring=\"r2\").mean()\n",
    "print(\"Cross-validated R2 mean:\", cross_val_r2_mean)"
   ]
  },
  {
   "cell_type": "code",
   "execution_count": 53,
   "id": "ede9a1ec",
   "metadata": {},
   "outputs": [],
   "source": [
    "from sklearn.ensemble import RandomForestRegressor"
   ]
  },
  {
   "cell_type": "code",
   "execution_count": 54,
   "id": "306ab5e6",
   "metadata": {},
   "outputs": [
    {
     "name": "stdout",
     "output_type": "stream",
     "text": [
      "r2 Score to Corresponding Random State: 42  is: 0.4088457445886723\n",
      "r2 Score to Corresponding Random State: 43  is: 0.15742160586823473\n",
      "r2 Score to Corresponding Random State: 44  is: 0.5724346632778521\n",
      "r2 Score to Corresponding Random State: 45  is: 0.036560821385120734\n",
      "r2 Score to Corresponding Random State: 46  is: 0.8166490006769387\n",
      "r2 Score to Corresponding Random State: 47  is: 0.7172464471435053\n",
      "r2 Score to Corresponding Random State: 48  is: 0.6461075004292683\n",
      "r2 Score to Corresponding Random State: 49  is: -0.55651454646267\n",
      "r2 Score to Corresponding Random State: 50  is: 0.22338040439191775\n",
      "r2 Score to Corresponding Random State: 51  is: 0.4685583373764828\n",
      "r2 Score to Corresponding Random State: 52  is: 0.4173499907500786\n",
      "r2 Score to Corresponding Random State: 53  is: 0.6714076984840647\n",
      "r2 Score to Corresponding Random State: 54  is: 0.6413677005860791\n",
      "r2 Score to Corresponding Random State: 55  is: 0.5323679780976687\n",
      "r2 Score to Corresponding Random State: 56  is: 0.31098084654092484\n",
      "r2 Score to Corresponding Random State: 57  is: 0.5942020246029552\n",
      "r2 Score to Corresponding Random State: 58  is: 0.17454063104784412\n",
      "r2 Score to Corresponding Random State: 59  is: 0.2055305989323406\n",
      "r2 Score to Corresponding Random State: 60  is: 0.4324895073054038\n",
      "r2 Score to Corresponding Random State: 61  is: 0.6018648091454908\n",
      "r2 Score to Corresponding Random State: 62  is: 0.48996150974669617\n",
      "r2 Score to Corresponding Random State: 63  is: 0.24202208508152578\n",
      "r2 Score to Corresponding Random State: 64  is: 0.6976048035328375\n",
      "r2 Score to Corresponding Random State: 65  is: 0.6588908501071755\n",
      "r2 Score to Corresponding Random State: 66  is: -0.20872874328860114\n",
      "r2 Score to Corresponding Random State: 67  is: 0.656552837530511\n",
      "r2 Score to Corresponding Random State: 68  is: 0.5194700862829945\n",
      "r2 Score to Corresponding Random State: 69  is: 0.4430678716640363\n",
      "r2 Score to Corresponding Random State: 70  is: 0.6028922340965613\n",
      "r2 Score to Corresponding Random State: 71  is: -0.42030973640593317\n",
      "r2 Score to Corresponding Random State: 72  is: -1.8370385322462752\n",
      "r2 Score to Corresponding Random State: 73  is: 0.712674094279216\n",
      "r2 Score to Corresponding Random State: 74  is: 0.1480446372868861\n",
      "r2 Score to Corresponding Random State: 75  is: 0.6101979482963262\n",
      "r2 Score to Corresponding Random State: 76  is: 0.5215091833453367\n",
      "r2 Score to Corresponding Random State: 77  is: 0.053895721363332205\n",
      "r2 Score to Corresponding Random State: 78  is: 0.6440701846942452\n",
      "r2 Score to Corresponding Random State: 79  is: 0.5879742961507157\n",
      "r2 Score to Corresponding Random State: 80  is: 0.4867681611631267\n",
      "r2 Score to Corresponding Random State: 81  is: 0.5931516099947728\n",
      "r2 Score to Corresponding Random State: 82  is: 0.6313470766834656\n",
      "r2 Score to Corresponding Random State: 83  is: 0.661940056760764\n",
      "r2 Score to Corresponding Random State: 84  is: 0.790365462442243\n",
      "r2 Score to Corresponding Random State: 85  is: 0.4760033257482088\n",
      "r2 Score to Corresponding Random State: 86  is: 0.4510488172712487\n",
      "r2 Score to Corresponding Random State: 87  is: 0.5545384527007069\n",
      "r2 Score to Corresponding Random State: 88  is: 0.255365385478727\n",
      "r2 Score to Corresponding Random State: 89  is: 0.06793438681635555\n",
      "r2 Score to Corresponding Random State: 90  is: 0.6214837943929801\n",
      "r2 Score to Corresponding Random State: 91  is: 0.4076492991405528\n",
      "r2 Score to Corresponding Random State: 92  is: 0.4703518225225819\n",
      "r2 Score to Corresponding Random State: 93  is: 0.6186675535493296\n",
      "r2 Score to Corresponding Random State: 94  is: 0.767618589920267\n",
      "r2 Score to Corresponding Random State: 95  is: 0.6294053505339352\n",
      "r2 Score to Corresponding Random State: 96  is: 0.4411231851801193\n",
      "r2 Score to Corresponding Random State: 97  is: 0.7174495031110772\n",
      "r2 Score to Corresponding Random State: 98  is: 0.21112899562265275\n",
      "r2 Score to Corresponding Random State: 99  is: 0.6091387636541934\n",
      "r2 Score to Corresponding Random State: 100  is: 0.11582922826006914\n",
      "\n",
      "\n",
      "max r2 Score corresponding to: 46  is  0.8166490006769387\n"
     ]
    }
   ],
   "source": [
    "#Model 3\n",
    "max_r_score = 0\n",
    "final_r_state = None\n",
    "\n",
    "for r_state in range(42, 101):\n",
    "    X_train, X_test, y_train, y_test = train_test_split(X, y, random_state=r_state, test_size=0.20)\n",
    "    rf = RandomForestRegressor()\n",
    "    rf.fit(X_train, y_train)\n",
    "    y_pred = rf.predict(X_test)\n",
    "    r2_scr = r2_score(y_test, y_pred)\n",
    "    print(\"r2 Score to Corresponding Random State:\", r_state, \" is:\", r2_scr)\n",
    "    if r2_scr > max_r_score:\n",
    "        max_r_score = r2_scr\n",
    "        final_r_state = r_state\n",
    "\n",
    "print()\n",
    "print()\n",
    "print(\"max r2 Score corresponding to:\", final_r_state, \" is \", max_r_score)"
   ]
  },
  {
   "cell_type": "code",
   "execution_count": 55,
   "id": "bf23f3f2",
   "metadata": {},
   "outputs": [
    {
     "name": "stdout",
     "output_type": "stream",
     "text": [
      "Cross-validated R2 mean: -0.6030583229112122\n"
     ]
    }
   ],
   "source": [
    "cross_val_r2_mean = cross_val_score(rf, X, y, cv=5, scoring=\"r2\").mean()\n",
    "print(\"Cross-validated R2 mean:\", cross_val_r2_mean)"
   ]
  },
  {
   "cell_type": "code",
   "execution_count": 56,
   "id": "da0a0c5d",
   "metadata": {},
   "outputs": [],
   "source": [
    "from sklearn.neighbors import KNeighborsRegressor"
   ]
  },
  {
   "cell_type": "code",
   "execution_count": 58,
   "id": "4487a928",
   "metadata": {
    "scrolled": true
   },
   "outputs": [
    {
     "name": "stdout",
     "output_type": "stream",
     "text": [
      "r2 Score to Corresponding Random State: 42  is: 0.35792321359892165\n",
      "r2 Score to Corresponding Random State: 43  is: 0.7664776865109854\n",
      "r2 Score to Corresponding Random State: 44  is: 0.8066961476987153\n",
      "r2 Score to Corresponding Random State: 45  is: 0.372789760065693\n",
      "r2 Score to Corresponding Random State: 46  is: 0.6368602813775619\n",
      "r2 Score to Corresponding Random State: 47  is: 0.5735314041791235\n",
      "r2 Score to Corresponding Random State: 48  is: 0.6819291862786383\n",
      "r2 Score to Corresponding Random State: 49  is: -0.8434561759571173\n",
      "r2 Score to Corresponding Random State: 50  is: 0.10589158536966414\n",
      "r2 Score to Corresponding Random State: 51  is: 0.7490828809786199\n",
      "r2 Score to Corresponding Random State: 52  is: 0.7788230396741694\n",
      "r2 Score to Corresponding Random State: 53  is: 0.5863178217901718\n",
      "r2 Score to Corresponding Random State: 54  is: 0.6621399808635647\n",
      "r2 Score to Corresponding Random State: 55  is: 0.6948628376951806\n",
      "r2 Score to Corresponding Random State: 56  is: 0.5779152569207843\n",
      "r2 Score to Corresponding Random State: 57  is: 0.7297215514255535\n",
      "r2 Score to Corresponding Random State: 58  is: 0.4230485403631449\n",
      "r2 Score to Corresponding Random State: 59  is: 0.5424300448981252\n",
      "r2 Score to Corresponding Random State: 60  is: 0.5131230264459178\n",
      "r2 Score to Corresponding Random State: 61  is: 0.7817993936046925\n",
      "r2 Score to Corresponding Random State: 62  is: 0.5943498048150302\n",
      "r2 Score to Corresponding Random State: 63  is: 0.2943933799478017\n",
      "r2 Score to Corresponding Random State: 64  is: 0.5414987066002661\n",
      "r2 Score to Corresponding Random State: 65  is: 0.591024813571128\n",
      "r2 Score to Corresponding Random State: 66  is: 0.29513852532347784\n",
      "r2 Score to Corresponding Random State: 67  is: 0.4594266699351306\n",
      "r2 Score to Corresponding Random State: 68  is: 0.5585511733295774\n",
      "r2 Score to Corresponding Random State: 69  is: 0.538159236417951\n",
      "r2 Score to Corresponding Random State: 70  is: 0.5728647311589392\n",
      "r2 Score to Corresponding Random State: 71  is: 0.7246750471041048\n",
      "r2 Score to Corresponding Random State: 72  is: -0.17655144877943152\n",
      "r2 Score to Corresponding Random State: 73  is: 0.5598052061610655\n",
      "r2 Score to Corresponding Random State: 74  is: -0.33137507970997415\n",
      "r2 Score to Corresponding Random State: 75  is: 0.672636896776966\n",
      "r2 Score to Corresponding Random State: 76  is: 0.4912582275020497\n",
      "r2 Score to Corresponding Random State: 77  is: 0.24548192222424836\n",
      "r2 Score to Corresponding Random State: 78  is: 0.5237688465997721\n",
      "r2 Score to Corresponding Random State: 79  is: 0.6121664881487113\n",
      "r2 Score to Corresponding Random State: 80  is: 0.6406263661943772\n",
      "r2 Score to Corresponding Random State: 81  is: 0.535673369039237\n",
      "r2 Score to Corresponding Random State: 82  is: 0.6554277849786341\n",
      "r2 Score to Corresponding Random State: 83  is: 0.6671640406725896\n",
      "r2 Score to Corresponding Random State: 84  is: 0.5480881963326608\n",
      "r2 Score to Corresponding Random State: 85  is: 0.44897667036682276\n",
      "r2 Score to Corresponding Random State: 86  is: 0.23164677620668161\n",
      "r2 Score to Corresponding Random State: 87  is: 0.4110099381639175\n",
      "r2 Score to Corresponding Random State: 88  is: 0.8022528313094002\n",
      "r2 Score to Corresponding Random State: 89  is: 0.4097531255404827\n",
      "r2 Score to Corresponding Random State: 90  is: 0.5702407155328643\n",
      "r2 Score to Corresponding Random State: 91  is: 0.2585051497249742\n",
      "r2 Score to Corresponding Random State: 92  is: 0.5668550946455472\n",
      "r2 Score to Corresponding Random State: 93  is: 0.3901727104305224\n",
      "r2 Score to Corresponding Random State: 94  is: 0.5546446734309619\n",
      "r2 Score to Corresponding Random State: 95  is: 0.5564685697850854\n",
      "r2 Score to Corresponding Random State: 96  is: 0.5136122240776919\n",
      "r2 Score to Corresponding Random State: 97  is: 0.45000774050938797\n",
      "r2 Score to Corresponding Random State: 98  is: 0.4302549911516973\n",
      "r2 Score to Corresponding Random State: 99  is: 0.6916659987841571\n",
      "r2 Score to Corresponding Random State: 100  is: 0.021311569486743398\n",
      "\n",
      "\n",
      "max r2 Score corresponding to: 44  is  0.8066961476987153\n"
     ]
    }
   ],
   "source": [
    "#Model No 4\n",
    "max_r_score = 0\n",
    "final_r_state = None\n",
    "\n",
    "for r_state in range(42, 101):\n",
    "    X_train, X_test, y_train, y_test = train_test_split(X, y, random_state=r_state, test_size=0.20)\n",
    "    knr = KNeighborsRegressor()\n",
    "    knr.fit(X_train, y_train)\n",
    "    y_pred = knr.predict(X_test)\n",
    "    r2_scr = r2_score(y_test, y_pred)\n",
    "    print(\"r2 Score to Corresponding Random State:\", r_state, \" is:\", r2_scr)\n",
    "    if r2_scr > max_r_score:\n",
    "        max_r_score = r2_scr\n",
    "        final_r_state = r_state\n",
    "\n",
    "print()\n",
    "print()\n",
    "print(\"max r2 Score corresponding to:\", final_r_state, \" is \", max_r_score)"
   ]
  },
  {
   "cell_type": "code",
   "execution_count": 59,
   "id": "79817c0e",
   "metadata": {},
   "outputs": [
    {
     "name": "stdout",
     "output_type": "stream",
     "text": [
      "Cross-validated R2 mean: 0.023833703464934897\n"
     ]
    }
   ],
   "source": [
    "cross_val_r2_mean = cross_val_score(knr, X, y, cv=5, scoring=\"r2\").mean()\n",
    "print(\"Cross-validated R2 mean:\", cross_val_r2_mean)"
   ]
  },
  {
   "cell_type": "code",
   "execution_count": 60,
   "id": "1c158547",
   "metadata": {},
   "outputs": [],
   "source": [
    "from sklearn.tree import DecisionTreeRegressor"
   ]
  },
  {
   "cell_type": "code",
   "execution_count": 61,
   "id": "beb0e1ab",
   "metadata": {},
   "outputs": [
    {
     "name": "stdout",
     "output_type": "stream",
     "text": [
      "r2 Score to Corresponding Random State: 42  is: -0.7236454436953834\n",
      "r2 Score to Corresponding Random State: 43  is: -0.9959724318330987\n",
      "r2 Score to Corresponding Random State: 44  is: 0.03228435427541165\n",
      "r2 Score to Corresponding Random State: 45  is: -0.32292423457348707\n",
      "r2 Score to Corresponding Random State: 46  is: 0.5390858861612675\n",
      "r2 Score to Corresponding Random State: 47  is: 0.6014262581593447\n",
      "r2 Score to Corresponding Random State: 48  is: -0.44824855402868913\n",
      "r2 Score to Corresponding Random State: 49  is: -1.2699074990480526\n",
      "r2 Score to Corresponding Random State: 50  is: -0.6206985319237512\n",
      "r2 Score to Corresponding Random State: 51  is: -0.16813257850076835\n",
      "r2 Score to Corresponding Random State: 52  is: -0.8824109164263758\n",
      "r2 Score to Corresponding Random State: 53  is: -0.8476187155553665\n",
      "r2 Score to Corresponding Random State: 54  is: -1.1551533622855241\n",
      "r2 Score to Corresponding Random State: 55  is: 0.1915868116346534\n",
      "r2 Score to Corresponding Random State: 56  is: -0.595205657922786\n",
      "r2 Score to Corresponding Random State: 57  is: 0.5342048103715302\n",
      "r2 Score to Corresponding Random State: 58  is: -0.946053559613441\n",
      "r2 Score to Corresponding Random State: 59  is: -0.7253820008396477\n",
      "r2 Score to Corresponding Random State: 60  is: -0.6720539137491552\n",
      "r2 Score to Corresponding Random State: 61  is: -0.13832042483847107\n",
      "r2 Score to Corresponding Random State: 62  is: -0.9533834983883365\n",
      "r2 Score to Corresponding Random State: 63  is: -0.16657924253779743\n",
      "r2 Score to Corresponding Random State: 64  is: -0.3238814762387292\n",
      "r2 Score to Corresponding Random State: 65  is: 0.87539755167013\n",
      "r2 Score to Corresponding Random State: 66  is: -0.4151343386120503\n",
      "r2 Score to Corresponding Random State: 67  is: 0.2905753491362202\n",
      "r2 Score to Corresponding Random State: 68  is: 0.30418306541003437\n",
      "r2 Score to Corresponding Random State: 69  is: -0.3149686616617495\n",
      "r2 Score to Corresponding Random State: 70  is: -0.053694894826344486\n",
      "r2 Score to Corresponding Random State: 71  is: -4.879230413204453\n",
      "r2 Score to Corresponding Random State: 72  is: -5.070791338327533\n",
      "r2 Score to Corresponding Random State: 73  is: 0.6444750982553606\n",
      "r2 Score to Corresponding Random State: 74  is: -2.265523570469601\n",
      "r2 Score to Corresponding Random State: 75  is: 0.24687589366944007\n",
      "r2 Score to Corresponding Random State: 76  is: 0.19129306655392786\n",
      "r2 Score to Corresponding Random State: 77  is: -1.189657691087119\n",
      "r2 Score to Corresponding Random State: 78  is: -0.20031429540454226\n",
      "r2 Score to Corresponding Random State: 79  is: 0.2044769658879021\n",
      "r2 Score to Corresponding Random State: 80  is: 0.5536481081220095\n",
      "r2 Score to Corresponding Random State: 81  is: 0.4243768172426605\n",
      "r2 Score to Corresponding Random State: 82  is: 0.20473466492401315\n",
      "r2 Score to Corresponding Random State: 83  is: 0.230223202927473\n",
      "r2 Score to Corresponding Random State: 84  is: -0.28285897170686325\n",
      "r2 Score to Corresponding Random State: 85  is: -0.20736432152759998\n",
      "r2 Score to Corresponding Random State: 86  is: -0.30194545867856193\n",
      "r2 Score to Corresponding Random State: 87  is: -2.506218848598114\n",
      "r2 Score to Corresponding Random State: 88  is: -2.76944092793335\n",
      "r2 Score to Corresponding Random State: 89  is: -0.04076720777763754\n",
      "r2 Score to Corresponding Random State: 90  is: 0.36835080650654084\n",
      "r2 Score to Corresponding Random State: 91  is: -0.2855985079250798\n",
      "r2 Score to Corresponding Random State: 92  is: -0.2730654034677673\n",
      "r2 Score to Corresponding Random State: 93  is: -0.1883201622439168\n",
      "r2 Score to Corresponding Random State: 94  is: 0.6663818327652162\n",
      "r2 Score to Corresponding Random State: 95  is: -0.29573343279419717\n",
      "r2 Score to Corresponding Random State: 96  is: -0.08233386587431557\n",
      "r2 Score to Corresponding Random State: 97  is: 0.39119513413323637\n",
      "r2 Score to Corresponding Random State: 98  is: -0.556194475196025\n",
      "r2 Score to Corresponding Random State: 99  is: 0.7252136928592887\n",
      "r2 Score to Corresponding Random State: 100  is: -0.7251359452458781\n",
      "\n",
      "\n",
      "max r2 Score corresponding to: 65  is  0.87539755167013\n"
     ]
    }
   ],
   "source": [
    "#Model 5\n",
    "max_r_score = 0\n",
    "final_r_state = None\n",
    "\n",
    "for r_state in range(42, 101):\n",
    "    X_train, X_test, y_train, y_test = train_test_split(X, y, random_state=r_state, test_size=0.20)\n",
    "    dtr = DecisionTreeRegressor()\n",
    "    dtr.fit(X_train, y_train)\n",
    "    y_pred = dtr.predict(X_test)\n",
    "    r2_scr = r2_score(y_test, y_pred)\n",
    "    print(\"r2 Score to Corresponding Random State:\", r_state, \" is:\", r2_scr)\n",
    "    if r2_scr > max_r_score:\n",
    "        max_r_score = r2_scr\n",
    "        final_r_state = r_state\n",
    "\n",
    "print()\n",
    "print()\n",
    "print(\"max r2 Score corresponding to:\", final_r_state, \" is \", max_r_score)"
   ]
  },
  {
   "cell_type": "code",
   "execution_count": 62,
   "id": "adf0bd60",
   "metadata": {},
   "outputs": [
    {
     "name": "stdout",
     "output_type": "stream",
     "text": [
      "Cross-validated R2 mean: -2.1769144679240546\n"
     ]
    }
   ],
   "source": [
    "cross_val_r2_mean = cross_val_score(dtr, X, y, cv=5, scoring=\"r2\").mean()\n",
    "print(\"Cross-validated R2 mean:\", cross_val_r2_mean)"
   ]
  },
  {
   "cell_type": "code",
   "execution_count": 63,
   "id": "42ed25b6",
   "metadata": {},
   "outputs": [],
   "source": [
    "import xgboost\n",
    "regressor=xgboost.XGBRegressor()\n",
    "booster=['gbtree','gblinear']\n",
    "base_score=[0.25,0.5,0.75,1]"
   ]
  },
  {
   "cell_type": "code",
   "execution_count": 64,
   "id": "5fb795e3",
   "metadata": {},
   "outputs": [],
   "source": [
    "#HyperParameter Optimization\n",
    "\n",
    "n_estimators = [100, 500, 900, 1100, 1500]\n",
    "max_depth = [2, 3, 5, 10, 15]\n",
    "booster=['gbtree','gblinear']\n",
    "learning_rate=[0.05,0.1,0.15,0.20]\n",
    "min_child_weight=[1,2,3,4]\n",
    "\n",
    "#DefineGrid\n",
    "\n",
    "hyperparameter_grid = {\n",
    "    'n_estimators': n_estimators,\n",
    "    'max_depth':max_depth,\n",
    "    'learning_rate':learning_rate,\n",
    "    'min_child_weight':min_child_weight,\n",
    "    'booster':booster,\n",
    "    'base_score':base_score\n",
    "    }"
   ]
  },
  {
   "cell_type": "code",
   "execution_count": 65,
   "id": "b093869e",
   "metadata": {},
   "outputs": [],
   "source": [
    "from sklearn.model_selection import RandomizedSearchCV\n",
    "random_cv = RandomizedSearchCV(estimator=regressor,\n",
    "            param_distributions=hyperparameter_grid,\n",
    "            cv=5, n_iter=50,\n",
    "            scoring = 'neg_mean_absolute_error',n_jobs = 4,\n",
    "            verbose = 5, \n",
    "            return_train_score = True,\n",
    "            random_state=42)"
   ]
  },
  {
   "cell_type": "code",
   "execution_count": 67,
   "id": "c536b5d0",
   "metadata": {},
   "outputs": [
    {
     "name": "stdout",
     "output_type": "stream",
     "text": [
      "Fitting 5 folds for each of 50 candidates, totalling 250 fits\n",
      "[16:19:36] WARNING: C:\\buildkite-agent\\builds\\buildkite-windows-cpu-autoscaling-group-i-0fdc6d574b9c0d168-1\\xgboost\\xgboost-ci-windows\\src\\learner.cc:767: \n",
      "Parameters: { \"max_depth\", \"min_child_weight\" } are not used.\n",
      "\n"
     ]
    },
    {
     "data": {
      "text/html": [
       "<style>#sk-container-id-2 {color: black;}#sk-container-id-2 pre{padding: 0;}#sk-container-id-2 div.sk-toggleable {background-color: white;}#sk-container-id-2 label.sk-toggleable__label {cursor: pointer;display: block;width: 100%;margin-bottom: 0;padding: 0.3em;box-sizing: border-box;text-align: center;}#sk-container-id-2 label.sk-toggleable__label-arrow:before {content: \"▸\";float: left;margin-right: 0.25em;color: #696969;}#sk-container-id-2 label.sk-toggleable__label-arrow:hover:before {color: black;}#sk-container-id-2 div.sk-estimator:hover label.sk-toggleable__label-arrow:before {color: black;}#sk-container-id-2 div.sk-toggleable__content {max-height: 0;max-width: 0;overflow: hidden;text-align: left;background-color: #f0f8ff;}#sk-container-id-2 div.sk-toggleable__content pre {margin: 0.2em;color: black;border-radius: 0.25em;background-color: #f0f8ff;}#sk-container-id-2 input.sk-toggleable__control:checked~div.sk-toggleable__content {max-height: 200px;max-width: 100%;overflow: auto;}#sk-container-id-2 input.sk-toggleable__control:checked~label.sk-toggleable__label-arrow:before {content: \"▾\";}#sk-container-id-2 div.sk-estimator input.sk-toggleable__control:checked~label.sk-toggleable__label {background-color: #d4ebff;}#sk-container-id-2 div.sk-label input.sk-toggleable__control:checked~label.sk-toggleable__label {background-color: #d4ebff;}#sk-container-id-2 input.sk-hidden--visually {border: 0;clip: rect(1px 1px 1px 1px);clip: rect(1px, 1px, 1px, 1px);height: 1px;margin: -1px;overflow: hidden;padding: 0;position: absolute;width: 1px;}#sk-container-id-2 div.sk-estimator {font-family: monospace;background-color: #f0f8ff;border: 1px dotted black;border-radius: 0.25em;box-sizing: border-box;margin-bottom: 0.5em;}#sk-container-id-2 div.sk-estimator:hover {background-color: #d4ebff;}#sk-container-id-2 div.sk-parallel-item::after {content: \"\";width: 100%;border-bottom: 1px solid gray;flex-grow: 1;}#sk-container-id-2 div.sk-label:hover label.sk-toggleable__label {background-color: #d4ebff;}#sk-container-id-2 div.sk-serial::before {content: \"\";position: absolute;border-left: 1px solid gray;box-sizing: border-box;top: 0;bottom: 0;left: 50%;z-index: 0;}#sk-container-id-2 div.sk-serial {display: flex;flex-direction: column;align-items: center;background-color: white;padding-right: 0.2em;padding-left: 0.2em;position: relative;}#sk-container-id-2 div.sk-item {position: relative;z-index: 1;}#sk-container-id-2 div.sk-parallel {display: flex;align-items: stretch;justify-content: center;background-color: white;position: relative;}#sk-container-id-2 div.sk-item::before, #sk-container-id-2 div.sk-parallel-item::before {content: \"\";position: absolute;border-left: 1px solid gray;box-sizing: border-box;top: 0;bottom: 0;left: 50%;z-index: -1;}#sk-container-id-2 div.sk-parallel-item {display: flex;flex-direction: column;z-index: 1;position: relative;background-color: white;}#sk-container-id-2 div.sk-parallel-item:first-child::after {align-self: flex-end;width: 50%;}#sk-container-id-2 div.sk-parallel-item:last-child::after {align-self: flex-start;width: 50%;}#sk-container-id-2 div.sk-parallel-item:only-child::after {width: 0;}#sk-container-id-2 div.sk-dashed-wrapped {border: 1px dashed gray;margin: 0 0.4em 0.5em 0.4em;box-sizing: border-box;padding-bottom: 0.4em;background-color: white;}#sk-container-id-2 div.sk-label label {font-family: monospace;font-weight: bold;display: inline-block;line-height: 1.2em;}#sk-container-id-2 div.sk-label-container {text-align: center;}#sk-container-id-2 div.sk-container {/* jupyter's `normalize.less` sets `[hidden] { display: none; }` but bootstrap.min.css set `[hidden] { display: none !important; }` so we also need the `!important` here to be able to override the default hidden behavior on the sphinx rendered scikit-learn.org. See: https://github.com/scikit-learn/scikit-learn/issues/21755 */display: inline-block !important;position: relative;}#sk-container-id-2 div.sk-text-repr-fallback {display: none;}</style><div id=\"sk-container-id-2\" class=\"sk-top-container\"><div class=\"sk-text-repr-fallback\"><pre>XGBRegressor(base_score=0.25, booster=&#x27;gblinear&#x27;, callbacks=None,\n",
       "             colsample_bylevel=None, colsample_bynode=None,\n",
       "             colsample_bytree=None, early_stopping_rounds=None,\n",
       "             enable_categorical=False, eval_metric=None, feature_types=None,\n",
       "             gamma=None, gpu_id=None, grow_policy=None, importance_type=None,\n",
       "             interaction_constraints=None, learning_rate=0.15, max_bin=None,\n",
       "             max_cat_threshold=None, max_cat_to_onehot=None,\n",
       "             max_delta_step=None, max_depth=2, max_leaves=None,\n",
       "             min_child_weight=2, missing=nan, monotone_constraints=None,\n",
       "             n_estimators=100, n_jobs=None, num_parallel_tree=None,\n",
       "             predictor=None, random_state=None, ...)</pre><b>In a Jupyter environment, please rerun this cell to show the HTML representation or trust the notebook. <br />On GitHub, the HTML representation is unable to render, please try loading this page with nbviewer.org.</b></div><div class=\"sk-container\" hidden><div class=\"sk-item\"><div class=\"sk-estimator sk-toggleable\"><input class=\"sk-toggleable__control sk-hidden--visually\" id=\"sk-estimator-id-2\" type=\"checkbox\" checked><label for=\"sk-estimator-id-2\" class=\"sk-toggleable__label sk-toggleable__label-arrow\">XGBRegressor</label><div class=\"sk-toggleable__content\"><pre>XGBRegressor(base_score=0.25, booster=&#x27;gblinear&#x27;, callbacks=None,\n",
       "             colsample_bylevel=None, colsample_bynode=None,\n",
       "             colsample_bytree=None, early_stopping_rounds=None,\n",
       "             enable_categorical=False, eval_metric=None, feature_types=None,\n",
       "             gamma=None, gpu_id=None, grow_policy=None, importance_type=None,\n",
       "             interaction_constraints=None, learning_rate=0.15, max_bin=None,\n",
       "             max_cat_threshold=None, max_cat_to_onehot=None,\n",
       "             max_delta_step=None, max_depth=2, max_leaves=None,\n",
       "             min_child_weight=2, missing=nan, monotone_constraints=None,\n",
       "             n_estimators=100, n_jobs=None, num_parallel_tree=None,\n",
       "             predictor=None, random_state=None, ...)</pre></div></div></div></div></div>"
      ],
      "text/plain": [
       "XGBRegressor(base_score=0.25, booster='gblinear', callbacks=None,\n",
       "             colsample_bylevel=None, colsample_bynode=None,\n",
       "             colsample_bytree=None, early_stopping_rounds=None,\n",
       "             enable_categorical=False, eval_metric=None, feature_types=None,\n",
       "             gamma=None, gpu_id=None, grow_policy=None, importance_type=None,\n",
       "             interaction_constraints=None, learning_rate=0.15, max_bin=None,\n",
       "             max_cat_threshold=None, max_cat_to_onehot=None,\n",
       "             max_delta_step=None, max_depth=2, max_leaves=None,\n",
       "             min_child_weight=2, missing=nan, monotone_constraints=None,\n",
       "             n_estimators=100, n_jobs=None, num_parallel_tree=None,\n",
       "             predictor=None, random_state=None, ...)"
      ]
     },
     "execution_count": 67,
     "metadata": {},
     "output_type": "execute_result"
    }
   ],
   "source": [
    "random_cv.fit(X_train,y_train)\n",
    "random_cv.best_estimator_"
   ]
  },
  {
   "cell_type": "code",
   "execution_count": 68,
   "id": "09c84cf8",
   "metadata": {},
   "outputs": [],
   "source": [
    "regressor=xgboost.XGBRegressor()"
   ]
  },
  {
   "cell_type": "code",
   "execution_count": 69,
   "id": "6134b593",
   "metadata": {},
   "outputs": [
    {
     "data": {
      "text/html": [
       "<style>#sk-container-id-3 {color: black;}#sk-container-id-3 pre{padding: 0;}#sk-container-id-3 div.sk-toggleable {background-color: white;}#sk-container-id-3 label.sk-toggleable__label {cursor: pointer;display: block;width: 100%;margin-bottom: 0;padding: 0.3em;box-sizing: border-box;text-align: center;}#sk-container-id-3 label.sk-toggleable__label-arrow:before {content: \"▸\";float: left;margin-right: 0.25em;color: #696969;}#sk-container-id-3 label.sk-toggleable__label-arrow:hover:before {color: black;}#sk-container-id-3 div.sk-estimator:hover label.sk-toggleable__label-arrow:before {color: black;}#sk-container-id-3 div.sk-toggleable__content {max-height: 0;max-width: 0;overflow: hidden;text-align: left;background-color: #f0f8ff;}#sk-container-id-3 div.sk-toggleable__content pre {margin: 0.2em;color: black;border-radius: 0.25em;background-color: #f0f8ff;}#sk-container-id-3 input.sk-toggleable__control:checked~div.sk-toggleable__content {max-height: 200px;max-width: 100%;overflow: auto;}#sk-container-id-3 input.sk-toggleable__control:checked~label.sk-toggleable__label-arrow:before {content: \"▾\";}#sk-container-id-3 div.sk-estimator input.sk-toggleable__control:checked~label.sk-toggleable__label {background-color: #d4ebff;}#sk-container-id-3 div.sk-label input.sk-toggleable__control:checked~label.sk-toggleable__label {background-color: #d4ebff;}#sk-container-id-3 input.sk-hidden--visually {border: 0;clip: rect(1px 1px 1px 1px);clip: rect(1px, 1px, 1px, 1px);height: 1px;margin: -1px;overflow: hidden;padding: 0;position: absolute;width: 1px;}#sk-container-id-3 div.sk-estimator {font-family: monospace;background-color: #f0f8ff;border: 1px dotted black;border-radius: 0.25em;box-sizing: border-box;margin-bottom: 0.5em;}#sk-container-id-3 div.sk-estimator:hover {background-color: #d4ebff;}#sk-container-id-3 div.sk-parallel-item::after {content: \"\";width: 100%;border-bottom: 1px solid gray;flex-grow: 1;}#sk-container-id-3 div.sk-label:hover label.sk-toggleable__label {background-color: #d4ebff;}#sk-container-id-3 div.sk-serial::before {content: \"\";position: absolute;border-left: 1px solid gray;box-sizing: border-box;top: 0;bottom: 0;left: 50%;z-index: 0;}#sk-container-id-3 div.sk-serial {display: flex;flex-direction: column;align-items: center;background-color: white;padding-right: 0.2em;padding-left: 0.2em;position: relative;}#sk-container-id-3 div.sk-item {position: relative;z-index: 1;}#sk-container-id-3 div.sk-parallel {display: flex;align-items: stretch;justify-content: center;background-color: white;position: relative;}#sk-container-id-3 div.sk-item::before, #sk-container-id-3 div.sk-parallel-item::before {content: \"\";position: absolute;border-left: 1px solid gray;box-sizing: border-box;top: 0;bottom: 0;left: 50%;z-index: -1;}#sk-container-id-3 div.sk-parallel-item {display: flex;flex-direction: column;z-index: 1;position: relative;background-color: white;}#sk-container-id-3 div.sk-parallel-item:first-child::after {align-self: flex-end;width: 50%;}#sk-container-id-3 div.sk-parallel-item:last-child::after {align-self: flex-start;width: 50%;}#sk-container-id-3 div.sk-parallel-item:only-child::after {width: 0;}#sk-container-id-3 div.sk-dashed-wrapped {border: 1px dashed gray;margin: 0 0.4em 0.5em 0.4em;box-sizing: border-box;padding-bottom: 0.4em;background-color: white;}#sk-container-id-3 div.sk-label label {font-family: monospace;font-weight: bold;display: inline-block;line-height: 1.2em;}#sk-container-id-3 div.sk-label-container {text-align: center;}#sk-container-id-3 div.sk-container {/* jupyter's `normalize.less` sets `[hidden] { display: none; }` but bootstrap.min.css set `[hidden] { display: none !important; }` so we also need the `!important` here to be able to override the default hidden behavior on the sphinx rendered scikit-learn.org. See: https://github.com/scikit-learn/scikit-learn/issues/21755 */display: inline-block !important;position: relative;}#sk-container-id-3 div.sk-text-repr-fallback {display: none;}</style><div id=\"sk-container-id-3\" class=\"sk-top-container\"><div class=\"sk-text-repr-fallback\"><pre>XGBRegressor(base_score=None, booster=None, callbacks=None,\n",
       "             colsample_bylevel=None, colsample_bynode=None,\n",
       "             colsample_bytree=None, early_stopping_rounds=None,\n",
       "             enable_categorical=False, eval_metric=None, feature_types=None,\n",
       "             gamma=None, gpu_id=None, grow_policy=None, importance_type=None,\n",
       "             interaction_constraints=None, learning_rate=None, max_bin=None,\n",
       "             max_cat_threshold=None, max_cat_to_onehot=None,\n",
       "             max_delta_step=None, max_depth=None, max_leaves=None,\n",
       "             min_child_weight=None, missing=nan, monotone_constraints=None,\n",
       "             n_estimators=100, n_jobs=None, num_parallel_tree=None,\n",
       "             predictor=None, random_state=None, ...)</pre><b>In a Jupyter environment, please rerun this cell to show the HTML representation or trust the notebook. <br />On GitHub, the HTML representation is unable to render, please try loading this page with nbviewer.org.</b></div><div class=\"sk-container\" hidden><div class=\"sk-item\"><div class=\"sk-estimator sk-toggleable\"><input class=\"sk-toggleable__control sk-hidden--visually\" id=\"sk-estimator-id-3\" type=\"checkbox\" checked><label for=\"sk-estimator-id-3\" class=\"sk-toggleable__label sk-toggleable__label-arrow\">XGBRegressor</label><div class=\"sk-toggleable__content\"><pre>XGBRegressor(base_score=None, booster=None, callbacks=None,\n",
       "             colsample_bylevel=None, colsample_bynode=None,\n",
       "             colsample_bytree=None, early_stopping_rounds=None,\n",
       "             enable_categorical=False, eval_metric=None, feature_types=None,\n",
       "             gamma=None, gpu_id=None, grow_policy=None, importance_type=None,\n",
       "             interaction_constraints=None, learning_rate=None, max_bin=None,\n",
       "             max_cat_threshold=None, max_cat_to_onehot=None,\n",
       "             max_delta_step=None, max_depth=None, max_leaves=None,\n",
       "             min_child_weight=None, missing=nan, monotone_constraints=None,\n",
       "             n_estimators=100, n_jobs=None, num_parallel_tree=None,\n",
       "             predictor=None, random_state=None, ...)</pre></div></div></div></div></div>"
      ],
      "text/plain": [
       "XGBRegressor(base_score=None, booster=None, callbacks=None,\n",
       "             colsample_bylevel=None, colsample_bynode=None,\n",
       "             colsample_bytree=None, early_stopping_rounds=None,\n",
       "             enable_categorical=False, eval_metric=None, feature_types=None,\n",
       "             gamma=None, gpu_id=None, grow_policy=None, importance_type=None,\n",
       "             interaction_constraints=None, learning_rate=None, max_bin=None,\n",
       "             max_cat_threshold=None, max_cat_to_onehot=None,\n",
       "             max_delta_step=None, max_depth=None, max_leaves=None,\n",
       "             min_child_weight=None, missing=nan, monotone_constraints=None,\n",
       "             n_estimators=100, n_jobs=None, num_parallel_tree=None,\n",
       "             predictor=None, random_state=None, ...)"
      ]
     },
     "execution_count": 69,
     "metadata": {},
     "output_type": "execute_result"
    }
   ],
   "source": [
    "regressor.fit(X_train, y_train)"
   ]
  },
  {
   "cell_type": "code",
   "execution_count": 71,
   "id": "05fe2452",
   "metadata": {},
   "outputs": [
    {
     "name": "stdout",
     "output_type": "stream",
     "text": [
      "r2 score is:  0.3072610226342276\n",
      "RMSE is :  0.6287071930622764\n"
     ]
    }
   ],
   "source": [
    "y_pred=regressor.predict(X_test)\n",
    "print(\"r2 score is: \",r2_score(y_test,y_pred))\n",
    "print(\"RMSE is : \",np.sqrt(mean_squared_error(y_test,y_pred)))"
   ]
  },
  {
   "cell_type": "markdown",
   "id": "58fd3729",
   "metadata": {},
   "source": [
    "### Selecting the Final Model "
   ]
  },
  {
   "cell_type": "markdown",
   "id": "9ff47329",
   "metadata": {},
   "source": [
    "Reason for Selection - Among all the options, LinearRegression corresponding to random state 67 is the clear winner with the highest R-squared value, indicating that it explains approximately 90.7% of the variance in the target variable. This suggests that this model has the best predictive performance and fits the data well."
   ]
  },
  {
   "cell_type": "code",
   "execution_count": null,
   "id": "c37e8425",
   "metadata": {},
   "outputs": [],
   "source": [
    "#Choosing Random State 67 as it gives best Results\n",
    "X_train, X_test, y_train, y_test = train_test_split(X, y,random_state = 67,test_size=0.20)\n",
    "lr=LinearRegression()\n",
    "lr.fit(X_train,y_train)\n",
    "y_pred=lr.predict(X_test)"
   ]
  },
  {
   "cell_type": "code",
   "execution_count": 74,
   "id": "b97dd313",
   "metadata": {},
   "outputs": [
    {
     "name": "stdout",
     "output_type": "stream",
     "text": [
      "r2 score is:  0.9074212626440621\n",
      "RMSE is :  0.38395683383634877\n"
     ]
    }
   ],
   "source": [
    "print(\"r2 score is: \",r2_score(y_test,y_pred))\n",
    "print(\"RMSE is : \",np.sqrt(mean_squared_error(y_test,y_pred)))"
   ]
  },
  {
   "cell_type": "code",
   "execution_count": 75,
   "id": "a0781aad",
   "metadata": {},
   "outputs": [
    {
     "data": {
      "text/plain": [
       "<matplotlib.collections.PathCollection at 0x1862fb5fd30>"
      ]
     },
     "execution_count": 75,
     "metadata": {},
     "output_type": "execute_result"
    },
    {
     "data": {
      "image/png": "[encoded data removed]",
      "text/plain": [
       "<Figure size 640x480 with 1 Axes>"
      ]
     },
     "metadata": {},
     "output_type": "display_data"
    }
   ],
   "source": [
    "plt.scatter(y_test,y_pred)"
   ]
  },
  {
   "cell_type": "markdown",
   "id": "27ddca48",
   "metadata": {},
   "source": [
    "As per aboved graph shows test and Predicted Values are well Distributed"
   ]
  },
  {
   "cell_type": "markdown",
   "id": "bbeae07d",
   "metadata": {},
   "source": [
    "### Dumping The Project"
   ]
  },
  {
   "cell_type": "code",
   "execution_count": 78,
   "id": "42b2233f",
   "metadata": {},
   "outputs": [],
   "source": [
    "import pickle"
   ]
  },
  {
   "cell_type": "code",
   "execution_count": 80,
   "id": "d53597c8",
   "metadata": {},
   "outputs": [],
   "source": [
    "pickle.dump(lr,open('dr_baseball.pkl','wb'))"
   ]
  },
  {
   "cell_type": "markdown",
   "id": "aaab3cd8",
   "metadata": {},
   "source": [
    "### End of Project"
   ]
  },
  {
   "cell_type": "code",
   "execution_count": null,
   "id": "4bbeb489",
   "metadata": {},
   "outputs": [],
   "source": []
  }
 ],
 "metadata": {
  "kernelspec": {
   "display_name": "Python 3 (ipykernel)",
   "language": "python",
   "name": "python3"
  },
  "language_info": {
   "codemirror_mode": {
    "name": "ipython",
    "version": 3
   },
   "file_extension": ".py",
   "mimetype": "text/x-python",
   "name": "python",
   "nbconvert_exporter": "python",
   "pygments_lexer": "ipython3",
   "version": "3.10.9"
  }
 },
 "nbformat": 4,
 "nbformat_minor": 5
}
